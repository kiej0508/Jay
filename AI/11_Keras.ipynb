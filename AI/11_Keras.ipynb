{
 "cells": [
  {
   "cell_type": "code",
   "execution_count": 37,
   "metadata": {},
   "outputs": [],
   "source": [
    "import pandas as pd\n",
    "import numpy as np\n",
    "import matplotlib.pyplot as plt\n",
    "import seaborn as sns\n",
    "import matplotlib as mpl\n",
    "\n",
    "\n",
    "import mglearn\n",
    "import matplotlib.font_manager as fm\n",
    "font_name = fm.FontProperties(fname=\"C:/Windows/Fonts/malgun.ttf\").get_name()    \n",
    "# 한글폰트가 기본적으로 없다.  그래서 따로 등록해서 사용하면 됨\n",
    "font_name\n",
    "#(c\\windows\\fonts  가 기본폰트)\n",
    "\n",
    "plt.rc('font', family=font_name)\n",
    "\n",
    "# - 마이너스 표시도 깨진다.\n",
    "mpl.rcParams[\"axes.unicode_minus\"]=False    #마이너스를 문자로 쓰지 않고 숫자로 쓰겠다. 라는 뜻\n",
    "\n",
    "import keras\n",
    "from keras.models import Sequential, load_model\n",
    "from keras.layers.core import Dense, Dropout\n",
    "from keras.optimizers import RMSprop\n",
    "from keras.utils import np_utils\n",
    "from keras.callbacks import EarlyStopping, TensorBoard"
   ]
  },
  {
   "cell_type": "markdown",
   "metadata": {},
   "source": [
    "<font color=red>\n",
    "\n",
    "## Keras\n",
    "</font>\n",
    "    \n",
    "    - 파이썬으로 구현된 쉽고 간결한 딥러닝 라이브러리\n",
    "    - 구글 엔지니어 프랑소와 숄레가 2015년 3월에 발표\n",
    "    - 내부적으로는 텐서플로우 엔진이 구동되지만 직관적인 API로 쉽게 딥러닝 실험을 할 수 있도록 지원\n",
    "    ※「케라스 창시자에게 배우는 딥러닝」 선생님이 추천하심 :)\n",
    "    \n",
    "    - Keras 라이브러리 설치 : dos에서 pip install keras\n",
    "    \n",
    "    1. Keras 특징\n",
    "        - 모듈화\n",
    "        - 최소주의\n",
    "\n",
    "    2. keras가 지원하는 엔진\n",
    "        - TensorFlow, theano\n",
    "        - Using TensorFlow backend : \n",
    "            - C:\\Users\\acorn\\.keras\\keras.json : 설정환경파일에 \"backend\": \"tensorflow\"로 설정되어있음\n",
    "            \n",
    "    3. 조기 종료 기능 : EarlyStopping()"
   ]
  },
  {
   "cell_type": "markdown",
   "metadata": {},
   "source": [
    "---\n",
    "<font color=red>\n",
    "\n",
    "### 다중선형회귀모델(TensorFlow랑 비교하기)\n",
    "</font>"
   ]
  },
  {
   "cell_type": "code",
   "execution_count": null,
   "metadata": {},
   "outputs": [],
   "source": [
    "# 데이터 불러오기\n",
    "np.random.seed()\n",
    "data = np.genfromtxt(\"data/x09.txt\", skip_header=36)\n",
    "data\n",
    "\n",
    "\"\"\"\n",
    "혈당 수치에 따른 머시기\n",
    "Index / One / Weight (kilograms) / Age (Years) / Blood fat content(종속변수)\n",
    "array([[  1.,   1.,  84.,  46., 354.],\n",
    "       [  2.,   1.,  73.,  20., 190.],\n",
    "\"\"\""
   ]
  },
  {
   "cell_type": "code",
   "execution_count": null,
   "metadata": {},
   "outputs": [],
   "source": [
    "##### 가설설정 비교 #####\n",
    "\n",
    "# 독립변수 / 종속변수 설정?\n",
    "X = np.array(data[:, 2:4], dtype=np.float) # 독립변수 : 컬럼 3, 4\n",
    "y = np.array(data[:, 4], dtype=np.float) # 종속변수 : 컬럼 5\n",
    "\n",
    "## 훈련데이터를 작업하고 텐서에서는 graph 작업을 해서 가설을 설정\n",
    "## → 케라스에서는 from keras.models import Sequential 를 사용하면 가설을 간단하게 사용할 수 있음\n",
    "\"\"\"\n",
    "    [ TensorFlow 가설 설정 ]\n",
    "# Matrix로 처리하는 경우\n",
    "X = tf.placeholder(tf.float32, shape=[None, 3]) # 5개로 들어와서 3개로 나감\n",
    "Y = tf.placeholder(tf.float32, shape=[None, 1])\n",
    "\n",
    "W = tf.Variable(tf.random_normal([3, 1])) # 3개로 들어와서 1개로 나감\n",
    "b = tf.Variable(tf.random_normal([1]))\n",
    "\n",
    "# 가설 설정\n",
    "hypothesis = tf.matmul(X, W) + b\n",
    "========================================================\n",
    "    [ Keras 가설 설정 ]\n",
    "model = Sequential()\n",
    "model.add(Dense(1, input_shape=(2, )))\n",
    "\"\"\"\n",
    "model = Sequential() # 얘가 다 해줄거임 흐\n",
    "# Dense(출력개수, input_shape=출력개수)\n",
    "model.add(Dense(1, input_shape=(2, ))) # (2개 26행인데 26행을 설정안하고 공란으로 처리(텐서에서 None으로 했던거처럼))"
   ]
  },
  {
   "cell_type": "code",
   "execution_count": null,
   "metadata": {},
   "outputs": [],
   "source": [
    "##### 비용처리 #####\n",
    "\"\"\"\n",
    "    [ TensorFlow 비용처리 ]\n",
    "# 비용 함수\n",
    "cost = tf.reduce_mean(tf.square(hypothesis-y))\n",
    "\n",
    "# 최소비용 계산\n",
    "train = tf.train.GradientDescentOptimizer(learning_rate=1e-5).minimize(cost)\n",
    "========================================================\n",
    "    [ Keras 비용처리 ]\n",
    "model.compile(loss='msq', optimizer=RMSprop(lr=0.01))\n",
    "\"\"\"\n",
    "\n",
    "model.compile(loss='mse', optimizer=RMSprop(lr=0.01))\n",
    "## 최저비용 mse(mean square error) 공식 / 알고리즘 RMSprop을 사용하겠다고 설정한 것\n",
    "## ※ RMSprop : 선형회귀에서 많이 사용하는 알고리즘"
   ]
  },
  {
   "cell_type": "code",
   "execution_count": null,
   "metadata": {},
   "outputs": [],
   "source": [
    "##### 레포트 #####\n",
    "model.summary()"
   ]
  },
  {
   "cell_type": "code",
   "execution_count": null,
   "metadata": {},
   "outputs": [],
   "source": [
    "##### 훈련시키기 #####\n",
    "\"\"\"\n",
    "    [ TensorFlow 훈련 ]\n",
    "with tf.Session() as sess:\n",
    "    sess.run(tf.global_variables_initializer())\n",
    "    for step in range(2001):\n",
    "        _, hy, co = sess.run([train, hypothesis, cost], feed_dict={X:x_data, y:y_data})\n",
    "        if step % 100 == 0:\n",
    "            print(\"step : {} / co : {} / hy : {}\".format(step, co, hy))\n",
    "========================================================\n",
    "    [ Keras 훈련 ]\n",
    "hist = model.fit(X, y, epochs=1000)\n",
    "\"\"\"\n",
    "hist = model.fit(X, y, epochs=1000)"
   ]
  },
  {
   "cell_type": "code",
   "execution_count": null,
   "metadata": {},
   "outputs": [],
   "source": [
    "# 훈련된 데이터 확인\n",
    "# print(hist.history.keys()) # → dict_keys(['loss'])\n",
    "# print(hist.history[\"loss\"])\n",
    "\n",
    "# 그래프 그리기\n",
    "plt.plot(hist.history[\"loss\"])"
   ]
  },
  {
   "cell_type": "code",
   "execution_count": null,
   "metadata": {},
   "outputs": [],
   "source": [
    "##### 예측하기 #####\n",
    "\"\"\"\n",
    "    [ TensorFlow 예측 ]\n",
    "\n",
    "========================================================\n",
    "    [ Keras 예측 ]\n",
    "model.predict(np.array([100, 40]).reshape(1, 2))\n",
    "\"\"\"\n",
    "# 체중이 100이고 나이가 40일때의 혈당은?\n",
    "model.predict(np.array([100, 40]).reshape(1, 2)) # Dense(1, input_shape=(2, ) 에 맞게 차원 맞춰서 값 입력\n",
    "\n",
    "## 회귀선이 필요하시다면 알려드리는게 인지상정 / 가중치, 절편 확인하기\n",
    "w, b = model.get_weights()"
   ]
  },
  {
   "cell_type": "markdown",
   "metadata": {},
   "source": [
    "---\n",
    "<font color=red>\n",
    "\n",
    "### 보스턴 주택가격을 사용한 회귀분석\n",
    "</font>"
   ]
  },
  {
   "cell_type": "code",
   "execution_count": null,
   "metadata": {},
   "outputs": [],
   "source": [
    "from keras.datasets import boston_housing\n",
    "(train_data, train_target), (test_data, test_target) = boston_housing.load_data()"
   ]
  },
  {
   "cell_type": "code",
   "execution_count": null,
   "metadata": {},
   "outputs": [],
   "source": [
    "# 데이터 확인\n",
    "print(train_data.shape, test_data.shape)\n",
    "print(train_target[:10])"
   ]
  },
  {
   "cell_type": "code",
   "execution_count": null,
   "metadata": {},
   "outputs": [],
   "source": [
    "##### 정규화 #####\n",
    "mean = train_data.mean(axis=0)\n",
    "train_data -= mean\n",
    "std = train_data.std(axis=0)\n",
    "train_data /= std\n",
    "test_data -= mean\n",
    "test_data /= std"
   ]
  },
  {
   "cell_type": "code",
   "execution_count": null,
   "metadata": {},
   "outputs": [],
   "source": [
    "##### 가설설정 #####\n",
    "model = Sequential()\n",
    "\n",
    "# 딥러닝할때 레이어마다 출력개수 임의설정 가능~ 마지막 출력 계층만 데이터에 맞게 해주면 됨~\n",
    "### 레이어 1 ###\n",
    "model.add(Dense(64, input_shape=(train_data.shape[1], ), activation='relu'))\n",
    "## activation='엑티베이션종류'액티베이션 직접설정할 때 (액티베이션의 종류에 따라 성능이 차이가 나니까)\n",
    "### 레이어 2 ###\n",
    "model.add(Dense(64, activation='relu'))\n",
    "## 위위에서 설정한 출력개수 64를 입력개수로 다시 받아와야쥬\n",
    "## 그취만 이 친구는 출력개수를 자동으로 입력개수로 전달받을 수 있어서 생략하면 알아서 64로 받아들입니당\n",
    "### 레이어 마지막~ ###\n",
    "model.add(Dense(1))\n",
    "\n",
    "model.summary()"
   ]
  },
  {
   "cell_type": "code",
   "execution_count": null,
   "metadata": {},
   "outputs": [],
   "source": [
    "##### 비용처리 #####\n",
    "model.compile(loss='mse', optimizer='rmsprop', metrics=[\"mae\"])\n",
    "## 러닝레이트를 사용하지 않을꺼면 임포트 안하고 알고리즘 종류만 알려줘도 됨\n",
    "## metrics=[\"mae\"] : mae(mean 절대값 error) / 별도 지정이 없을때는 accuracy(정확도)?였나 로 지정됨"
   ]
  },
  {
   "cell_type": "code",
   "execution_count": null,
   "metadata": {},
   "outputs": [],
   "source": [
    "##### 훈련 #####\n",
    "model.fit(train_data, train_target, epochs=100, batch_size=1, verbose=1)\n",
    "\n",
    "## 훈련 성능이 좋지 못함\n",
    "## 데이터 정규화를 위에서 다시 하고 와야게씀"
   ]
  },
  {
   "cell_type": "code",
   "execution_count": null,
   "metadata": {},
   "outputs": [],
   "source": [
    "mse, mae = model.evaluate(test_data, test_target, verbose=1)\n",
    "print(mse, mae)"
   ]
  },
  {
   "cell_type": "markdown",
   "metadata": {},
   "source": [
    "---\n",
    "<font color=red>\n",
    "\n",
    "### 인공신경망\n",
    "</font>"
   ]
  },
  {
   "cell_type": "code",
   "execution_count": null,
   "metadata": {},
   "outputs": [],
   "source": [
    "X = np.array([0, 1, 2, 3, 4])\n",
    "y = X*2 + 1\n",
    "\n",
    "model = Sequential()\n",
    "model.add(Dense(1, input_shape=(1, )))\n",
    "model.compile(loss='mse', optimizer='SGD')\n",
    "model.fit(X, y, epochs=500, verbose=1)\n",
    "\n",
    "print(\"Tatget : \",y[2:])\n",
    "print(\"predict : \", model.predict(X[2:]))"
   ]
  },
  {
   "cell_type": "code",
   "execution_count": null,
   "metadata": {},
   "outputs": [],
   "source": [
    "##### 손글씨 데이터 불러오기 #####\n",
    "\n",
    "from keras.datasets import mnist\n",
    "(X_train, y_train), (X_test, y_test) = mnist.load_data()"
   ]
  },
  {
   "cell_type": "code",
   "execution_count": null,
   "metadata": {},
   "outputs": [],
   "source": [
    "print(X_train.shape, X_test.shape)\n",
    "print(y_train.shape, y_test.shape)\n",
    "print(y_train[:10])"
   ]
  },
  {
   "cell_type": "code",
   "execution_count": null,
   "metadata": {},
   "outputs": [],
   "source": [
    "# one-hot encoding\n",
    "\n",
    "y_train = np_utils.to_categorical(y_train) # 데이터를 범주화시켜주는 함수\n",
    "y_test = np_utils.to_categorical(y_test)"
   ]
  },
  {
   "cell_type": "code",
   "execution_count": null,
   "metadata": {
    "scrolled": true
   },
   "outputs": [],
   "source": [
    "print(y_train[:10])"
   ]
  },
  {
   "cell_type": "code",
   "execution_count": null,
   "metadata": {},
   "outputs": [],
   "source": [
    "# 훈련시 2차원으로 데이터 입력해야하니까 reshape~~\n",
    "X_train = X_train.reshape(60000, 28*28)/255\n",
    "X_test = X_test.reshape(10000, 28*28)/255"
   ]
  },
  {
   "cell_type": "code",
   "execution_count": null,
   "metadata": {},
   "outputs": [],
   "source": [
    "# validation 분할\n",
    "x_val = X_train[:12600] # 데이터를 테스트용으로 잘라놓고\n",
    "X_train = X_train[12600:] # 나머지 데이터를 다시 훈련용으로\n",
    "\n",
    "y_val = y_train[:12600] # 정답을 테스트용으로 잘라놓고\n",
    "y_train = y_train[12600:] # 나머지 정답을 다시 훈련용으로"
   ]
  },
  {
   "cell_type": "code",
   "execution_count": null,
   "metadata": {},
   "outputs": [],
   "source": [
    "print(X_train.shape, X_test.shape)\n",
    "print(y_train.shape, y_test.shape)"
   ]
  },
  {
   "cell_type": "code",
   "execution_count": null,
   "metadata": {},
   "outputs": [],
   "source": [
    "model = Sequential()\n",
    "\n",
    "model.add(Dense(64, input_shape=(X_train.shape[1], ), activation='relu')) # 레이어1 (28*28)\n",
    "# = model.add(Dense(64, input_dim=y_train.shape[1]*y_train.shape[1], activation='relu'))\n",
    "model.add(Dense(10, activation='softmax')) # 출력계층 (0~9까지 10개)\n",
    "\n",
    "model.compile(loss='categorical_crossentropy', optimizer='SGD', metrics=['accuracy'])\n",
    "## 여긴 회귀분석이 아니니까 평균제곱오차 말고 딴거를 써야할 것 같아욤\n",
    "## 여기서는 'categorical_crossentropy'쓸거고 / 필요한 경우에는 도큐먼트가서 비용계산방법 찾아보기\n",
    "\n",
    "model.summary()"
   ]
  },
  {
   "cell_type": "code",
   "execution_count": null,
   "metadata": {},
   "outputs": [],
   "source": [
    "model.fit(X_train, y_train, epochs=5, batch_size=32, validation_data=[x_val, y_val])\n",
    "## validation_data(훈련데이터로 유효성(자체적인 적합도 검정)을 미리 검사할 수 있는 알고리즘) 사용 가능\n",
    "## ↑ 이거를 하려면 위에 validation 분할처리를 미리 해줘야함"
   ]
  },
  {
   "cell_type": "markdown",
   "metadata": {},
   "source": [
    "---\n",
    "<font color=red>\n",
    "\n",
    "### 이미지데이터라서 픽셀마다 값이 0~255라 정규화가 필요하대염 :) 그럼 나도 나중에 색이나 이미지로 뭐 해먹을라면 정규화해야겠네</br>\n",
    "\n",
    "X_train = X_train.reshape(60000, 28*28)/255</br>\n",
    "\n",
    "X_test = X_test.reshape(10000, 28*28)/255\n",
    "</font>"
   ]
  },
  {
   "cell_type": "code",
   "execution_count": null,
   "metadata": {},
   "outputs": [],
   "source": [
    "result = model.evaluate(X_test, y_test, batch_size=32)\n",
    "print(result)"
   ]
  },
  {
   "cell_type": "code",
   "execution_count": null,
   "metadata": {},
   "outputs": [],
   "source": [
    "# 실제 데이터의 인덱스 랜덤하게 뽑고\n",
    "xhat_idx = np.random.choice(X_test.shape[0], 10)\n",
    "xhat_idx"
   ]
  },
  {
   "cell_type": "code",
   "execution_count": null,
   "metadata": {},
   "outputs": [],
   "source": [
    "# 인덱스에 맞는 실제데이터 갖고와서\n",
    "xhat = X_test[xhat_idx]\n",
    "xhat"
   ]
  },
  {
   "cell_type": "code",
   "execution_count": null,
   "metadata": {},
   "outputs": [],
   "source": [
    "# 예측을 돌려보고\n",
    "yhat = model.predict_classes(xhat)\n",
    "yhat"
   ]
  },
  {
   "cell_type": "code",
   "execution_count": null,
   "metadata": {},
   "outputs": [],
   "source": [
    "# 몇개맞췄나 보자\n",
    "for i in range(10):\n",
    "    print(\"True : \", np.argmax(y_test[xhat_idx[i]]), \", predict : \", yhat[i])"
   ]
  },
  {
   "cell_type": "code",
   "execution_count": null,
   "metadata": {},
   "outputs": [],
   "source": [
    "##### 그래프 시각화(위 코드 한번에 붙인거) #####\n",
    "\n",
    "from keras.datasets import mnist\n",
    "(X_train, y_train), (X_test, y_test) = mnist.load_data()\n",
    "\n",
    "# one-hot encoding\n",
    "y_train = np_utils.to_categorical(y_train) # 데이터를 범주화시켜주는 함수\n",
    "y_test = np_utils.to_categorical(y_test)\n",
    "\n",
    "# 훈련시 2차원으로 데이터 입력해야하니까 reshape~~\n",
    "X_train = X_train.reshape(60000, 28*28)/255\n",
    "X_test = X_test.reshape(10000, 28*28)/255\n",
    "\n",
    "# validation 분할\n",
    "x_val = X_train[:12600] # 데이터를 테스트용으로 잘라놓고\n",
    "X_train = X_train[12600:] # 나머지 데이터를 다시 훈련용으로\n",
    "y_val = y_train[:12600] # 정답을 테스트용으로 잘라놓고\n",
    "y_train = y_train[12600:] # 나머지 정답을 다시 훈련용으로\n",
    "\n",
    "# 모델 구성\n",
    "model = Sequential()\n",
    "model.add(Dense(64, input_shape=(X_train.shape[1], ), activation='relu')) # 레이어1 (28*28)\n",
    "model.add(Dense(10, activation='softmax')) # 출력계층 (0~9까지 10개)\n",
    "model.compile(loss='categorical_crossentropy', optimizer='SGD', metrics=['accuracy'])\n",
    "\n",
    "# 텐서보드 설정 : tensorboard --logdir=graph\n",
    "tf_hist = keras.callbacks.TensorBoard(log_dir=\"./graph\", write_graph=True, write_images=True)\n",
    "\n",
    "# 모델 훈련\n",
    "hist = model.fit(X_train, y_train, epochs=5, batch_size=32, validation_data=(x_val, y_val),\n",
    "                 callbacks=[tf_hist])"
   ]
  },
  {
   "cell_type": "code",
   "execution_count": null,
   "metadata": {},
   "outputs": [],
   "source": [
    "# 모델 저장 → 재실행할때 이전 코드 다시 실행 안하고 다시 불러와유\n",
    "model.save(\"data/mnist_model.h5\")"
   ]
  },
  {
   "cell_type": "code",
   "execution_count": 3,
   "metadata": {},
   "outputs": [
    {
     "name": "stdout",
     "output_type": "stream",
     "text": [
      "WARNING:tensorflow:From C:\\Users\\acorn\\AppData\\Local\\Continuum\\anaconda3\\envs\\tf1\\lib\\site-packages\\tensorflow_core\\python\\ops\\resource_variable_ops.py:1630: calling BaseResourceVariable.__init__ (from tensorflow.python.ops.resource_variable_ops) with constraint is deprecated and will be removed in a future version.\n",
      "Instructions for updating:\n",
      "If using Keras pass *_constraint arguments to layers.\n",
      "WARNING:tensorflow:From C:\\Users\\acorn\\AppData\\Local\\Continuum\\anaconda3\\envs\\tf1\\lib\\site-packages\\keras\\backend\\tensorflow_backend.py:422: The name tf.global_variables is deprecated. Please use tf.compat.v1.global_variables instead.\n",
      "\n"
     ]
    }
   ],
   "source": [
    "# 모델 불러오기\n",
    "model = load_model(\"data/mnist_model.h5\")"
   ]
  },
  {
   "cell_type": "code",
   "execution_count": 4,
   "metadata": {},
   "outputs": [
    {
     "name": "stdout",
     "output_type": "stream",
     "text": [
      "True :  8 , predict :  8\n",
      "True :  8 , predict :  8\n",
      "True :  7 , predict :  7\n",
      "True :  5 , predict :  5\n",
      "True :  5 , predict :  5\n",
      "True :  7 , predict :  2\n",
      "True :  5 , predict :  5\n",
      "True :  1 , predict :  1\n",
      "True :  5 , predict :  5\n",
      "True :  6 , predict :  6\n"
     ]
    }
   ],
   "source": [
    "# 불러온 데이터로 예측값 뽑아봅시다\n",
    "from keras.datasets import mnist\n",
    "(X_train, y_train), (X_test, y_test) = mnist.load_data()\n",
    "\n",
    "X_test = X_test.reshape(10000, 784).astype(\"float32\")/255.0\n",
    "y_test = np_utils.to_categorical(y_test)\n",
    "\n",
    "# 실제 데이터의 인덱스 랜덤하게 뽑고\n",
    "xhat_idx = np.random.choice(X_test.shape[0], 10)\n",
    "# 인덱스에 맞는 실제데이터 갖고와서\n",
    "xhat = X_test[xhat_idx]\n",
    "# 예측을 돌려보고\n",
    "yhat = model.predict_classes(xhat)\n",
    "# 몇개맞췄나 보자\n",
    "for i in range(10):\n",
    "    print(\"True : \", np.argmax(y_test[xhat_idx[i]]), \", predict : \", yhat[i])"
   ]
  },
  {
   "cell_type": "code",
   "execution_count": 5,
   "metadata": {},
   "outputs": [
    {
     "name": "stdout",
     "output_type": "stream",
     "text": [
      "10000/10000 [==============================] - 0s 18us/step\n",
      "[0.24587728255987168, 0.9294999837875366]\n"
     ]
    }
   ],
   "source": [
    "result = model.evaluate(X_test, y_test, batch_size=32)\n",
    "print(result)"
   ]
  },
  {
   "cell_type": "markdown",
   "metadata": {},
   "source": [
    "---\n",
    "<font color=red>\n",
    "\n",
    "### 조기종료\n",
    "</font>\n",
    "\n",
    "    - EarlyStopping(monitor='val_loss', min_data=0, patience=10)\n",
    "        : 학습효과가 없을 때 학습을 조기 종료시켜줌\n",
    "        - monitor : 관찰하고자 하는 항목, val_loss나 val_acc에 주로 사용\n",
    "        - min_data : 개선되고 있다고 판단하기 위한 최소 변화량 / 보통 0을 지정\n",
    "        - patience : 지정된 값까지 기다렸다가 종료"
   ]
  },
  {
   "cell_type": "code",
   "execution_count": 9,
   "metadata": {
    "scrolled": true
   },
   "outputs": [
    {
     "name": "stdout",
     "output_type": "stream",
     "text": [
      "Train on 47400 samples, validate on 12600 samples\n",
      "Epoch 1/30\n",
      "47400/47400 [==============================] - 2s 35us/step - loss: 0.7592 - accuracy: 0.8101 - val_loss: 0.4140 - val_accuracy: 0.8914\n",
      "Epoch 2/30\n",
      "47400/47400 [==============================] - 2s 35us/step - loss: 0.3758 - accuracy: 0.8963 - val_loss: 0.3329 - val_accuracy: 0.9085\n",
      "Epoch 3/30\n",
      "47400/47400 [==============================] - 2s 35us/step - loss: 0.3218 - accuracy: 0.9090 - val_loss: 0.2999 - val_accuracy: 0.9160\n",
      "Epoch 4/30\n",
      "47400/47400 [==============================] - 2s 34us/step - loss: 0.2924 - accuracy: 0.9175 - val_loss: 0.2770 - val_accuracy: 0.9218\n",
      "Epoch 5/30\n",
      "47400/47400 [==============================] - 2s 32us/step - loss: 0.2712 - accuracy: 0.9241 - val_loss: 0.2610 - val_accuracy: 0.9267\n",
      "Epoch 6/30\n",
      "47400/47400 [==============================] - 2s 32us/step - loss: 0.2543 - accuracy: 0.9282 - val_loss: 0.2455 - val_accuracy: 0.9298\n",
      "Epoch 7/30\n",
      "47400/47400 [==============================] - 2s 36us/step - loss: 0.2398 - accuracy: 0.9325 - val_loss: 0.2335 - val_accuracy: 0.9342\n",
      "Epoch 8/30\n",
      "47400/47400 [==============================] - 2s 35us/step - loss: 0.2268 - accuracy: 0.9360 - val_loss: 0.2243 - val_accuracy: 0.9367\n",
      "Epoch 9/30\n",
      "47400/47400 [==============================] - 2s 34us/step - loss: 0.2153 - accuracy: 0.9391 - val_loss: 0.2139 - val_accuracy: 0.9399\n",
      "Epoch 10/30\n",
      "47400/47400 [==============================] - 2s 34us/step - loss: 0.2045 - accuracy: 0.9421 - val_loss: 0.2054 - val_accuracy: 0.9418\n",
      "Epoch 11/30\n",
      "47400/47400 [==============================] - 2s 36us/step - loss: 0.1950 - accuracy: 0.9454 - val_loss: 0.1974 - val_accuracy: 0.9433\n",
      "Epoch 12/30\n",
      "47400/47400 [==============================] - 2s 34us/step - loss: 0.1863 - accuracy: 0.9464 - val_loss: 0.1902 - val_accuracy: 0.9458\n",
      "Epoch 13/30\n",
      "47400/47400 [==============================] - 2s 35us/step - loss: 0.1781 - accuracy: 0.9492 - val_loss: 0.1849 - val_accuracy: 0.9465\n",
      "Epoch 14/30\n",
      "47400/47400 [==============================] - 2s 34us/step - loss: 0.1711 - accuracy: 0.9516 - val_loss: 0.1787 - val_accuracy: 0.9477\n",
      "Epoch 15/30\n",
      "47400/47400 [==============================] - 2s 33us/step - loss: 0.1639 - accuracy: 0.9535 - val_loss: 0.1736 - val_accuracy: 0.9510\n",
      "Epoch 16/30\n",
      "47400/47400 [==============================] - 2s 32us/step - loss: 0.1576 - accuracy: 0.9554 - val_loss: 0.1673 - val_accuracy: 0.9517\n",
      "Epoch 17/30\n",
      "47400/47400 [==============================] - 2s 35us/step - loss: 0.1516 - accuracy: 0.9572 - val_loss: 0.1633 - val_accuracy: 0.9517\n",
      "Epoch 18/30\n",
      "47400/47400 [==============================] - 2s 34us/step - loss: 0.1459 - accuracy: 0.9589 - val_loss: 0.1615 - val_accuracy: 0.9528\n",
      "Epoch 19/30\n",
      "47400/47400 [==============================] - 2s 35us/step - loss: 0.1407 - accuracy: 0.9601 - val_loss: 0.1550 - val_accuracy: 0.9550\n",
      "Epoch 20/30\n",
      "47400/47400 [==============================] - 2s 35us/step - loss: 0.1359 - accuracy: 0.9616 - val_loss: 0.1505 - val_accuracy: 0.9554\n",
      "Epoch 21/30\n",
      "47400/47400 [==============================] - 2s 34us/step - loss: 0.1312 - accuracy: 0.9629 - val_loss: 0.1480 - val_accuracy: 0.9570\n",
      "Epoch 22/30\n",
      "47400/47400 [==============================] - 2s 35us/step - loss: 0.1269 - accuracy: 0.9650 - val_loss: 0.1461 - val_accuracy: 0.9575\n",
      "Epoch 23/30\n",
      "47400/47400 [==============================] - 2s 35us/step - loss: 0.1229 - accuracy: 0.9659 - val_loss: 0.1412 - val_accuracy: 0.9579\n",
      "Epoch 24/30\n",
      "47400/47400 [==============================] - 2s 35us/step - loss: 0.1191 - accuracy: 0.9666 - val_loss: 0.1396 - val_accuracy: 0.9594\n",
      "Epoch 25/30\n",
      "47400/47400 [==============================] - 2s 34us/step - loss: 0.1157 - accuracy: 0.9681 - val_loss: 0.1374 - val_accuracy: 0.9598\n",
      "Epoch 26/30\n",
      "47400/47400 [==============================] - 2s 35us/step - loss: 0.1124 - accuracy: 0.9689 - val_loss: 0.1342 - val_accuracy: 0.9602\n",
      "Epoch 27/30\n",
      "47400/47400 [==============================] - 2s 33us/step - loss: 0.1090 - accuracy: 0.9698 - val_loss: 0.1323 - val_accuracy: 0.9612\n",
      "Epoch 28/30\n",
      "47400/47400 [==============================] - 2s 32us/step - loss: 0.1063 - accuracy: 0.9703 - val_loss: 0.1304 - val_accuracy: 0.9617\n",
      "Epoch 29/30\n",
      "47400/47400 [==============================] - 2s 32us/step - loss: 0.1034 - accuracy: 0.9716 - val_loss: 0.1269 - val_accuracy: 0.9628\n",
      "Epoch 30/30\n",
      "47400/47400 [==============================] - 2s 34us/step - loss: 0.1007 - accuracy: 0.9722 - val_loss: 0.1269 - val_accuracy: 0.9620\n"
     ]
    }
   ],
   "source": [
    "##### 그래프 시각화(위 코드 한번에 붙인거) #####\n",
    "\n",
    "from keras.datasets import mnist\n",
    "(X_train, y_train), (X_test, y_test) = mnist.load_data()\n",
    "\n",
    "# one-hot encoding\n",
    "y_train = np_utils.to_categorical(y_train) # 데이터를 범주화시켜주는 함수\n",
    "y_test = np_utils.to_categorical(y_test)\n",
    "\n",
    "# 훈련시 2차원으로 데이터 입력해야하니까 reshape~~\n",
    "X_train = X_train.reshape(60000, 28*28)/255\n",
    "X_test = X_test.reshape(10000, 28*28)/255\n",
    "\n",
    "# validation 분할\n",
    "x_val = X_train[:12600] # 데이터를 테스트용으로 잘라놓고\n",
    "X_train = X_train[12600:] # 나머지 데이터를 다시 훈련용으로\n",
    "y_val = y_train[:12600] # 정답을 테스트용으로 잘라놓고\n",
    "y_train = y_train[12600:] # 나머지 정답을 다시 훈련용으로\n",
    "\n",
    "# 모델 구성\n",
    "model = Sequential()\n",
    "model.add(Dense(64, input_shape=(X_train.shape[1], ), activation='relu')) # 레이어1 (28*28)\n",
    "model.add(Dense(10, activation='softmax')) # 출력계층 (0~9까지 10개)\n",
    "model.compile(loss='categorical_crossentropy', optimizer='SGD', metrics=['accuracy'])\n",
    "\n",
    "# 텐서보드 설정 : tensorboard --logdir=graph\n",
    "# tf_hist = keras.callbacks.TensorBoard(log_dir=\"./graph\", write_graph=True, write_images=True)\n",
    "tf_hist = TensorBoard(log_dir=\"./graph\", write_graph=True, write_images=True)\n",
    "\n",
    "# 조기종료 설정\n",
    "early = EarlyStopping() # 디폴트 값으로 객체 생성\n",
    "\n",
    "# 모델 훈련\n",
    "hist = model.fit(X_train, y_train, epochs=30, batch_size=32, validation_data=(x_val, y_val),\n",
    "                 callbacks=[early]) # 여기에 callbacks로 콜백에 있는 함수들을 지정해주면 됨"
   ]
  },
  {
   "cell_type": "markdown",
   "metadata": {},
   "source": [
    "---\n",
    "<font color=red>\n",
    "\n",
    "### 붓꽃데이터\n",
    "</font>"
   ]
  },
  {
   "cell_type": "code",
   "execution_count": 11,
   "metadata": {},
   "outputs": [],
   "source": [
    "iris = sns.load_dataset(\"iris\")"
   ]
  },
  {
   "cell_type": "code",
   "execution_count": 16,
   "metadata": {},
   "outputs": [],
   "source": [
    "X = iris.iloc[:, :4].values\n",
    "y = iris.iloc[:, -1].values"
   ]
  },
  {
   "cell_type": "code",
   "execution_count": 27,
   "metadata": {},
   "outputs": [],
   "source": [
    "### 문자로 된 데이터를 one-hot encoding할때 sklearn 사용하면 이지~함\n",
    "from sklearn.preprocessing import LabelEncoder\n",
    "\n",
    "encoder = LabelEncoder()\n",
    "y1 = encoder.fit_transform(y) # 일단 데이터를 숫자로 바꿔줌 :)\n",
    "y2 = pd.get_dummies(y1).values # 이거로 원핫~예~\n",
    "\n",
    "### 훈련/테스트 구분하기\n",
    "from sklearn.model_selection import train_test_split\n",
    "\n",
    "X_train, X_test, y_train, y_test = train_test_split(X, y2, test_size=0.2, random_state=1)"
   ]
  },
  {
   "cell_type": "code",
   "execution_count": 33,
   "metadata": {},
   "outputs": [
    {
     "name": "stdout",
     "output_type": "stream",
     "text": [
      "Train on 120 samples, validate on 30 samples\n",
      "Epoch 1/100\n",
      "120/120 [==============================] - 0s 954us/step - loss: 1.0114 - accuracy: 0.6917 - val_loss: 0.9696 - val_accuracy: 0.5667\n",
      "Epoch 2/100\n",
      "120/120 [==============================] - 0s 49us/step - loss: 0.8629 - accuracy: 0.7583 - val_loss: 0.8200 - val_accuracy: 0.9333\n",
      "Epoch 3/100\n",
      "120/120 [==============================] - 0s 58us/step - loss: 0.7955 - accuracy: 0.9333 - val_loss: 0.7487 - val_accuracy: 0.7667\n",
      "Epoch 4/100\n",
      "120/120 [==============================] - 0s 58us/step - loss: 0.7142 - accuracy: 0.7917 - val_loss: 0.7191 - val_accuracy: 0.6000\n",
      "Epoch 5/100\n",
      "120/120 [==============================] - 0s 42us/step - loss: 0.6365 - accuracy: 0.7083 - val_loss: 0.6666 - val_accuracy: 0.6000\n",
      "Epoch 6/100\n",
      "120/120 [==============================] - 0s 44us/step - loss: 0.5903 - accuracy: 0.7083 - val_loss: 0.6225 - val_accuracy: 0.6333\n",
      "Epoch 7/100\n",
      "120/120 [==============================] - 0s 58us/step - loss: 0.5481 - accuracy: 0.8167 - val_loss: 0.5741 - val_accuracy: 0.7333\n",
      "Epoch 8/100\n",
      "120/120 [==============================] - 0s 43us/step - loss: 0.5186 - accuracy: 0.9000 - val_loss: 0.5283 - val_accuracy: 0.8000\n",
      "Epoch 9/100\n",
      "120/120 [==============================] - 0s 42us/step - loss: 0.4820 - accuracy: 0.8917 - val_loss: 0.5241 - val_accuracy: 0.7333\n",
      "Epoch 10/100\n",
      "120/120 [==============================] - 0s 42us/step - loss: 0.4523 - accuracy: 0.8917 - val_loss: 0.4942 - val_accuracy: 0.7333\n",
      "Epoch 11/100\n",
      "120/120 [==============================] - 0s 49us/step - loss: 0.4258 - accuracy: 0.9083 - val_loss: 0.4678 - val_accuracy: 0.7333\n",
      "Epoch 12/100\n",
      "120/120 [==============================] - 0s 50us/step - loss: 0.4026 - accuracy: 0.9417 - val_loss: 0.4381 - val_accuracy: 0.8667\n",
      "Epoch 13/100\n",
      "120/120 [==============================] - 0s 41us/step - loss: 0.3829 - accuracy: 0.9667 - val_loss: 0.4195 - val_accuracy: 0.8667\n",
      "Epoch 14/100\n",
      "120/120 [==============================] - 0s 52us/step - loss: 0.3614 - accuracy: 0.9583 - val_loss: 0.4122 - val_accuracy: 0.8667\n",
      "Epoch 15/100\n",
      "120/120 [==============================] - 0s 42us/step - loss: 0.3512 - accuracy: 0.9333 - val_loss: 0.4198 - val_accuracy: 0.7333\n",
      "Epoch 16/100\n",
      "120/120 [==============================] - 0s 42us/step - loss: 0.3307 - accuracy: 0.9333 - val_loss: 0.3773 - val_accuracy: 0.9000\n",
      "Epoch 17/100\n",
      "120/120 [==============================] - 0s 42us/step - loss: 0.3137 - accuracy: 0.9750 - val_loss: 0.3508 - val_accuracy: 0.9333\n",
      "Epoch 18/100\n",
      "120/120 [==============================] - 0s 50us/step - loss: 0.3062 - accuracy: 0.9833 - val_loss: 0.3441 - val_accuracy: 0.9333\n",
      "Epoch 19/100\n",
      "120/120 [==============================] - 0s 49us/step - loss: 0.2872 - accuracy: 0.9750 - val_loss: 0.3637 - val_accuracy: 0.8667\n",
      "Epoch 20/100\n",
      "120/120 [==============================] - 0s 42us/step - loss: 0.2806 - accuracy: 0.9500 - val_loss: 0.3510 - val_accuracy: 0.8667\n",
      "Epoch 21/100\n",
      "120/120 [==============================] - 0s 50us/step - loss: 0.2649 - accuracy: 0.9667 - val_loss: 0.3150 - val_accuracy: 0.9333\n",
      "Epoch 22/100\n",
      "120/120 [==============================] - 0s 42us/step - loss: 0.2574 - accuracy: 0.9833 - val_loss: 0.3002 - val_accuracy: 0.9667\n",
      "Epoch 23/100\n",
      "120/120 [==============================] - 0s 50us/step - loss: 0.2448 - accuracy: 0.9833 - val_loss: 0.3147 - val_accuracy: 0.9000\n",
      "Epoch 24/100\n",
      "120/120 [==============================] - 0s 50us/step - loss: 0.2349 - accuracy: 0.9750 - val_loss: 0.3066 - val_accuracy: 0.9000\n",
      "Epoch 25/100\n",
      "120/120 [==============================] - 0s 40us/step - loss: 0.2264 - accuracy: 0.9667 - val_loss: 0.2952 - val_accuracy: 0.9000\n",
      "Epoch 26/100\n",
      "120/120 [==============================] - 0s 50us/step - loss: 0.2133 - accuracy: 0.9750 - val_loss: 0.2653 - val_accuracy: 0.9667\n",
      "Epoch 27/100\n",
      "120/120 [==============================] - 0s 42us/step - loss: 0.2136 - accuracy: 0.9833 - val_loss: 0.2558 - val_accuracy: 0.9667\n",
      "Epoch 28/100\n",
      "120/120 [==============================] - 0s 42us/step - loss: 0.2058 - accuracy: 0.9750 - val_loss: 0.2905 - val_accuracy: 0.8667\n",
      "Epoch 29/100\n",
      "120/120 [==============================] - 0s 42us/step - loss: 0.1942 - accuracy: 0.9750 - val_loss: 0.2526 - val_accuracy: 0.9333\n",
      "Epoch 30/100\n",
      "120/120 [==============================] - 0s 41us/step - loss: 0.1864 - accuracy: 0.9833 - val_loss: 0.2337 - val_accuracy: 0.9667\n",
      "Epoch 31/100\n",
      "120/120 [==============================] - 0s 50us/step - loss: 0.1817 - accuracy: 0.9750 - val_loss: 0.2435 - val_accuracy: 0.9333\n",
      "Epoch 32/100\n",
      "120/120 [==============================] - 0s 49us/step - loss: 0.1722 - accuracy: 0.9750 - val_loss: 0.2356 - val_accuracy: 0.9333\n",
      "Epoch 33/100\n",
      "120/120 [==============================] - 0s 42us/step - loss: 0.1678 - accuracy: 0.9750 - val_loss: 0.2301 - val_accuracy: 0.9333\n",
      "Epoch 34/100\n",
      "120/120 [==============================] - 0s 42us/step - loss: 0.1614 - accuracy: 0.9750 - val_loss: 0.2135 - val_accuracy: 0.9667\n",
      "Epoch 35/100\n",
      "120/120 [==============================] - 0s 41us/step - loss: 0.1582 - accuracy: 0.9750 - val_loss: 0.2144 - val_accuracy: 0.9667\n",
      "Epoch 36/100\n",
      "120/120 [==============================] - 0s 42us/step - loss: 0.1529 - accuracy: 0.9833 - val_loss: 0.2052 - val_accuracy: 0.9667\n",
      "Epoch 37/100\n",
      "120/120 [==============================] - 0s 42us/step - loss: 0.1494 - accuracy: 0.9750 - val_loss: 0.2053 - val_accuracy: 0.9667\n",
      "Epoch 38/100\n",
      "120/120 [==============================] - 0s 42us/step - loss: 0.1525 - accuracy: 0.9750 - val_loss: 0.2292 - val_accuracy: 0.9333\n",
      "Epoch 39/100\n",
      "120/120 [==============================] - 0s 42us/step - loss: 0.1406 - accuracy: 0.9750 - val_loss: 0.1910 - val_accuracy: 0.9667\n",
      "Epoch 40/100\n",
      "120/120 [==============================] - 0s 42us/step - loss: 0.1346 - accuracy: 0.9833 - val_loss: 0.1772 - val_accuracy: 1.0000\n",
      "Epoch 41/100\n",
      "120/120 [==============================] - 0s 42us/step - loss: 0.1427 - accuracy: 0.9583 - val_loss: 0.1779 - val_accuracy: 0.9667\n",
      "Epoch 42/100\n",
      "120/120 [==============================] - 0s 50us/step - loss: 0.1384 - accuracy: 0.9750 - val_loss: 0.2219 - val_accuracy: 0.9333\n",
      "Epoch 43/100\n",
      "120/120 [==============================] - 0s 50us/step - loss: 0.1326 - accuracy: 0.9750 - val_loss: 0.1791 - val_accuracy: 0.9667\n",
      "Epoch 44/100\n",
      "120/120 [==============================] - 0s 42us/step - loss: 0.1262 - accuracy: 0.9833 - val_loss: 0.1650 - val_accuracy: 0.9667\n",
      "Epoch 45/100\n",
      "120/120 [==============================] - 0s 42us/step - loss: 0.1248 - accuracy: 0.9750 - val_loss: 0.1750 - val_accuracy: 0.9667\n",
      "Epoch 46/100\n",
      "120/120 [==============================] - 0s 49us/step - loss: 0.1206 - accuracy: 0.9750 - val_loss: 0.1682 - val_accuracy: 0.9667\n",
      "Epoch 47/100\n",
      "120/120 [==============================] - 0s 50us/step - loss: 0.1173 - accuracy: 0.9750 - val_loss: 0.1686 - val_accuracy: 0.9667\n",
      "Epoch 48/100\n",
      "120/120 [==============================] - 0s 42us/step - loss: 0.1152 - accuracy: 0.9750 - val_loss: 0.1617 - val_accuracy: 0.9667\n",
      "Epoch 49/100\n",
      "120/120 [==============================] - 0s 42us/step - loss: 0.1131 - accuracy: 0.9750 - val_loss: 0.1629 - val_accuracy: 0.9667\n",
      "Epoch 50/100\n",
      "120/120 [==============================] - 0s 40us/step - loss: 0.1129 - accuracy: 0.9750 - val_loss: 0.1511 - val_accuracy: 0.9667\n",
      "Epoch 51/100\n",
      "120/120 [==============================] - 0s 42us/step - loss: 0.1089 - accuracy: 0.9833 - val_loss: 0.1577 - val_accuracy: 0.9667\n",
      "Epoch 52/100\n",
      "120/120 [==============================] - 0s 42us/step - loss: 0.1096 - accuracy: 0.9750 - val_loss: 0.1625 - val_accuracy: 0.9667\n",
      "Epoch 53/100\n",
      "120/120 [==============================] - 0s 50us/step - loss: 0.1071 - accuracy: 0.9750 - val_loss: 0.1475 - val_accuracy: 0.9667\n",
      "Epoch 54/100\n",
      "120/120 [==============================] - 0s 42us/step - loss: 0.1141 - accuracy: 0.9667 - val_loss: 0.1350 - val_accuracy: 1.0000\n",
      "Epoch 55/100\n",
      "120/120 [==============================] - 0s 34us/step - loss: 0.1052 - accuracy: 0.9750 - val_loss: 0.1552 - val_accuracy: 0.9667\n",
      "Epoch 56/100\n",
      "120/120 [==============================] - 0s 50us/step - loss: 0.1059 - accuracy: 0.9750 - val_loss: 0.1677 - val_accuracy: 0.9333\n",
      "Epoch 57/100\n"
     ]
    },
    {
     "name": "stdout",
     "output_type": "stream",
     "text": [
      "120/120 [==============================] - 0s 50us/step - loss: 0.1033 - accuracy: 0.9750 - val_loss: 0.1308 - val_accuracy: 0.9667\n",
      "Epoch 58/100\n",
      "120/120 [==============================] - 0s 41us/step - loss: 0.0999 - accuracy: 0.9833 - val_loss: 0.1292 - val_accuracy: 0.9667\n",
      "Epoch 59/100\n",
      "120/120 [==============================] - 0s 41us/step - loss: 0.0982 - accuracy: 0.9833 - val_loss: 0.1405 - val_accuracy: 0.9667\n",
      "Epoch 60/100\n",
      "120/120 [==============================] - 0s 42us/step - loss: 0.1000 - accuracy: 0.9750 - val_loss: 0.1442 - val_accuracy: 0.9667\n",
      "Epoch 61/100\n",
      "120/120 [==============================] - 0s 50us/step - loss: 0.0939 - accuracy: 0.9750 - val_loss: 0.1237 - val_accuracy: 0.9667\n",
      "Epoch 62/100\n",
      "120/120 [==============================] - 0s 41us/step - loss: 0.1020 - accuracy: 0.9583 - val_loss: 0.1199 - val_accuracy: 1.0000\n",
      "Epoch 63/100\n",
      "120/120 [==============================] - 0s 50us/step - loss: 0.0951 - accuracy: 0.9833 - val_loss: 0.1401 - val_accuracy: 0.9667\n",
      "Epoch 64/100\n",
      "120/120 [==============================] - 0s 41us/step - loss: 0.0963 - accuracy: 0.9750 - val_loss: 0.1461 - val_accuracy: 0.9667\n",
      "Epoch 65/100\n",
      "120/120 [==============================] - 0s 42us/step - loss: 0.0914 - accuracy: 0.9750 - val_loss: 0.1203 - val_accuracy: 0.9667\n",
      "Epoch 66/100\n",
      "120/120 [==============================] - 0s 42us/step - loss: 0.0948 - accuracy: 0.9750 - val_loss: 0.1141 - val_accuracy: 1.0000\n",
      "Epoch 67/100\n",
      "120/120 [==============================] - 0s 42us/step - loss: 0.0891 - accuracy: 0.9833 - val_loss: 0.1292 - val_accuracy: 0.9667\n",
      "Epoch 68/100\n",
      "120/120 [==============================] - 0s 42us/step - loss: 0.0970 - accuracy: 0.9750 - val_loss: 0.1493 - val_accuracy: 0.9333\n",
      "Epoch 69/100\n",
      "120/120 [==============================] - 0s 50us/step - loss: 0.0918 - accuracy: 0.9750 - val_loss: 0.1136 - val_accuracy: 0.9667\n",
      "Epoch 70/100\n",
      "120/120 [==============================] - 0s 41us/step - loss: 0.0984 - accuracy: 0.9667 - val_loss: 0.1084 - val_accuracy: 1.0000\n",
      "Epoch 71/100\n",
      "120/120 [==============================] - 0s 33us/step - loss: 0.0950 - accuracy: 0.9750 - val_loss: 0.1217 - val_accuracy: 0.9667\n",
      "Epoch 72/100\n",
      "120/120 [==============================] - 0s 42us/step - loss: 0.0874 - accuracy: 0.9750 - val_loss: 0.1184 - val_accuracy: 0.9667\n",
      "Epoch 73/100\n",
      "120/120 [==============================] - 0s 34us/step - loss: 0.0843 - accuracy: 0.9750 - val_loss: 0.1064 - val_accuracy: 1.0000\n",
      "Epoch 74/100\n",
      "120/120 [==============================] - 0s 34us/step - loss: 0.0864 - accuracy: 0.9833 - val_loss: 0.1040 - val_accuracy: 1.0000\n",
      "Epoch 75/100\n",
      "120/120 [==============================] - 0s 41us/step - loss: 0.0905 - accuracy: 0.9750 - val_loss: 0.1170 - val_accuracy: 0.9667\n",
      "Epoch 76/100\n",
      "120/120 [==============================] - 0s 38us/step - loss: 0.0863 - accuracy: 0.9833 - val_loss: 0.1052 - val_accuracy: 0.9667\n",
      "Epoch 77/100\n",
      "120/120 [==============================] - 0s 50us/step - loss: 0.0841 - accuracy: 0.9833 - val_loss: 0.1094 - val_accuracy: 0.9667\n",
      "Epoch 78/100\n",
      "120/120 [==============================] - 0s 42us/step - loss: 0.0850 - accuracy: 0.9750 - val_loss: 0.1131 - val_accuracy: 0.9667\n",
      "Epoch 79/100\n",
      "120/120 [==============================] - 0s 42us/step - loss: 0.0824 - accuracy: 0.9750 - val_loss: 0.1048 - val_accuracy: 0.9667\n",
      "Epoch 80/100\n",
      "120/120 [==============================] - 0s 42us/step - loss: 0.0836 - accuracy: 0.9833 - val_loss: 0.0982 - val_accuracy: 1.0000\n",
      "Epoch 81/100\n",
      "120/120 [==============================] - 0s 34us/step - loss: 0.0818 - accuracy: 0.9833 - val_loss: 0.1049 - val_accuracy: 0.9667\n",
      "Epoch 82/100\n",
      "120/120 [==============================] - 0s 42us/step - loss: 0.0814 - accuracy: 0.9750 - val_loss: 0.1062 - val_accuracy: 0.9667\n",
      "Epoch 83/100\n",
      "120/120 [==============================] - 0s 42us/step - loss: 0.0807 - accuracy: 0.9750 - val_loss: 0.1038 - val_accuracy: 0.9667\n",
      "Epoch 84/100\n",
      "120/120 [==============================] - 0s 43us/step - loss: 0.0807 - accuracy: 0.9750 - val_loss: 0.0973 - val_accuracy: 0.9667\n",
      "Epoch 85/100\n",
      "120/120 [==============================] - 0s 42us/step - loss: 0.0804 - accuracy: 0.9833 - val_loss: 0.0978 - val_accuracy: 0.9667\n",
      "Epoch 86/100\n",
      "120/120 [==============================] - ETA: 0s - loss: 0.1041 - accuracy: 0.96 - 0s 50us/step - loss: 0.0798 - accuracy: 0.9833 - val_loss: 0.0948 - val_accuracy: 0.9667\n",
      "Epoch 87/100\n",
      "120/120 [==============================] - 0s 39us/step - loss: 0.0787 - accuracy: 0.9833 - val_loss: 0.0986 - val_accuracy: 0.9667\n",
      "Epoch 88/100\n",
      "120/120 [==============================] - 0s 50us/step - loss: 0.0810 - accuracy: 0.9833 - val_loss: 0.0945 - val_accuracy: 0.9667\n",
      "Epoch 89/100\n",
      "120/120 [==============================] - 0s 42us/step - loss: 0.0776 - accuracy: 0.9750 - val_loss: 0.1015 - val_accuracy: 0.9667\n",
      "Epoch 90/100\n",
      "120/120 [==============================] - 0s 58us/step - loss: 0.0785 - accuracy: 0.9750 - val_loss: 0.1024 - val_accuracy: 0.9667\n",
      "Epoch 91/100\n",
      "120/120 [==============================] - 0s 43us/step - loss: 0.0793 - accuracy: 0.9750 - val_loss: 0.0940 - val_accuracy: 0.9667\n",
      "Epoch 92/100\n",
      "120/120 [==============================] - 0s 42us/step - loss: 0.0762 - accuracy: 0.9833 - val_loss: 0.0861 - val_accuracy: 1.0000\n",
      "Epoch 93/100\n",
      "120/120 [==============================] - 0s 42us/step - loss: 0.0818 - accuracy: 0.9667 - val_loss: 0.0862 - val_accuracy: 1.0000\n",
      "Epoch 94/100\n",
      "120/120 [==============================] - 0s 43us/step - loss: 0.0845 - accuracy: 0.9750 - val_loss: 0.1158 - val_accuracy: 0.9667\n",
      "Epoch 95/100\n",
      "120/120 [==============================] - 0s 50us/step - loss: 0.0802 - accuracy: 0.9750 - val_loss: 0.0879 - val_accuracy: 1.0000\n",
      "Epoch 96/100\n",
      "120/120 [==============================] - 0s 42us/step - loss: 0.0764 - accuracy: 0.9833 - val_loss: 0.0846 - val_accuracy: 1.0000\n",
      "Epoch 97/100\n",
      "120/120 [==============================] - 0s 42us/step - loss: 0.0770 - accuracy: 0.9833 - val_loss: 0.0841 - val_accuracy: 1.0000\n",
      "Epoch 98/100\n",
      "120/120 [==============================] - 0s 45us/step - loss: 0.0748 - accuracy: 0.9833 - val_loss: 0.0920 - val_accuracy: 0.9667\n",
      "Epoch 99/100\n",
      "120/120 [==============================] - 0s 41us/step - loss: 0.0766 - accuracy: 0.9750 - val_loss: 0.0943 - val_accuracy: 0.9667\n",
      "Epoch 100/100\n",
      "120/120 [==============================] - 0s 50us/step - loss: 0.0814 - accuracy: 0.9750 - val_loss: 0.1080 - val_accuracy: 0.9667\n"
     ]
    }
   ],
   "source": [
    "### 훈련시켜봅시다!\n",
    "model = Sequential()\n",
    "\n",
    "model.add(Dense(64, input_shape=(X_train.shape[1], ), activation='relu'))\n",
    "model.add(Dense(64, activation='relu'))\n",
    "model.add(Dense(3, activation='softmax')) # 품종 3개 중에 1개니까 출력개수는 3개\n",
    "\n",
    "model.compile(loss='categorical_crossentropy', optimizer='adam', metrics=[\"accuracy\"])\n",
    "\n",
    "hist = model.fit(X_train, y_train, epochs=100, validation_data=[X_test, y_test])"
   ]
  },
  {
   "cell_type": "code",
   "execution_count": 34,
   "metadata": {},
   "outputs": [
    {
     "name": "stdout",
     "output_type": "stream",
     "text": [
      "dict_keys(['val_loss', 'val_accuracy', 'loss', 'accuracy'])\n"
     ]
    },
    {
     "data": {
      "text/plain": [
       "<matplotlib.legend.Legend at 0x1d22e8a9f08>"
      ]
     },
     "execution_count": 34,
     "metadata": {},
     "output_type": "execute_result"
    },
    {
     "data": {
      "image/png": "[encoded data removed]",
      "text/plain": [
       "<Figure size 864x576 with 1 Axes>"
      ]
     },
     "metadata": {
      "needs_background": "light"
     },
     "output_type": "display_data"
    }
   ],
   "source": [
    "### 시각화\n",
    "print(hist.history.keys())\n",
    "plt.figure(figsize=(12, 8))\n",
    "plt.plot(hist.history[\"loss\"])\n",
    "plt.plot(hist.history['val_loss'])\n",
    "plt.plot(hist.history[\"accuracy\"])\n",
    "plt.plot(hist.history[\"val_accuracy\"])\n",
    "plt.legend(['loss', 'val_loss', 'accuracy', 'val_accuracy'])"
   ]
  },
  {
   "cell_type": "code",
   "execution_count": 30,
   "metadata": {},
   "outputs": [
    {
     "name": "stdout",
     "output_type": "stream",
     "text": [
      "30/30 [==============================] - 0s 0us/step\n",
      "0.07933628559112549 1.0\n"
     ]
    }
   ],
   "source": [
    "### 모델평가\n",
    "\n",
    "loss, acc = model.evaluate(X_test, y_test)\n",
    "print(loss, acc)"
   ]
  },
  {
   "cell_type": "code",
   "execution_count": 36,
   "metadata": {},
   "outputs": [
    {
     "name": "stdout",
     "output_type": "stream",
     "text": [
      "              precision    recall  f1-score   support\n",
      "\n",
      "           0       1.00      1.00      1.00        11\n",
      "           1       1.00      0.92      0.96        13\n",
      "           2       0.86      1.00      0.92         6\n",
      "\n",
      "    accuracy                           0.97        30\n",
      "   macro avg       0.95      0.97      0.96        30\n",
      "weighted avg       0.97      0.97      0.97        30\n",
      "\n",
      "[[11  0  0]\n",
      " [ 0 12  1]\n",
      " [ 0  0  6]]\n",
      "품종예측 :  ['setosa']\n"
     ]
    }
   ],
   "source": [
    "### 예측 테스트\n",
    "from sklearn.metrics import classification_report, confusion_matrix\n",
    "y_pred = model.predict(X_test)\n",
    "y_test_class = np.argmax(y_test, axis=1)\n",
    "y_pred_class = np.argmax(y_pred, axis=1)\n",
    "\n",
    "print(classification_report(y_test_class, y_pred_class))\n",
    "print(confusion_matrix(y_test_class, y_pred_class))\n",
    "\n",
    "test_set = np.array([[5, 2.9, 1, 0.2]])\n",
    "print(\"품종예측 : \", iris[\"species\"].unique()[model.predict_classes(test_set)])"
   ]
  },
  {
   "cell_type": "markdown",
   "metadata": {},
   "source": [
    "---\n",
    "<font color=red>\n",
    "\n",
    "### DNN\n",
    "</font>\n",
    "    \n",
    "    - 머신러닝 훈련 모델을 모듈화해봅시다"
   ]
  },
  {
   "cell_type": "code",
   "execution_count": 40,
   "metadata": {},
   "outputs": [],
   "source": [
    "### 훈련모델 생성 함수 작성\n",
    "def make_model(input_number, output_number, hidden_layer):\n",
    "    model = Sequential()\n",
    "    \n",
    "    # 첫번째 레이어\n",
    "    model.add(Dense(hidden_layer[0], input_shape=(input_number, ), activation='relu', name=\"hidden-1\"))\n",
    "    model.add(Dense(hidden_layer[1], activation='relu', name=\"hidden-2\"))\n",
    "    model.add(Dense(hidden_layer[2], activation='relu', name=\"hidden-3\"))\n",
    "    \n",
    "    # Drop-Out 설정\n",
    "    model.add(Dropout(0.2))\n",
    "    \n",
    "    # 출력계층\n",
    "    model.add(Dense(10, activation='softmax'))\n",
    "    model.compile(loss=\"categorical_crossentropy\", optimizer=\"adam\", metrics=[\"accuracy\"])\n",
    "    \n",
    "    return model"
   ]
  },
  {
   "cell_type": "code",
   "execution_count": 43,
   "metadata": {},
   "outputs": [
    {
     "name": "stdout",
     "output_type": "stream",
     "text": [
      "Epoch 1/5\n",
      "60000/60000 [==============================] - 3s 47us/step - loss: 0.2448 - accuracy: 0.9269\n",
      "Epoch 2/5\n",
      "60000/60000 [==============================] - 2s 40us/step - loss: 0.0952 - accuracy: 0.9713\n",
      "Epoch 3/5\n",
      "60000/60000 [==============================] - 2s 30us/step - loss: 0.0633 - accuracy: 0.9801\n",
      "Epoch 4/5\n",
      "60000/60000 [==============================] - 2s 30us/step - loss: 0.0470 - accuracy: 0.9850\n",
      "Epoch 5/5\n",
      "60000/60000 [==============================] - 2s 31us/step - loss: 0.0362 - accuracy: 0.9881\n"
     ]
    }
   ],
   "source": [
    "# MNIST 데이터 갖고오기\n",
    "(X_train, y_train), (X_test, y_test) = mnist.load_data()\n",
    "\n",
    "# one-hot encoding\n",
    "y_train = np_utils.to_categorical(y_train) # 데이터를 범주화시켜주는 함수\n",
    "y_test = np_utils.to_categorical(y_test)\n",
    "\n",
    "# 훈련시 2차원으로 데이터 입력해야하니까 reshape~~\n",
    "X_train = X_train.reshape(60000, 28*28)/255\n",
    "X_test = X_test.reshape(10000, 28*28)/255\n",
    "\n",
    "# 훈련모델 함수 호출\n",
    "input_number, output_number, hidden_layer = 784. 10. [255, 255, 255]\n",
    "model = make_model(28*28, 10, [input_number, output_number, hidden_layer]) #입력(이미지)개수, 출력개수, 히든계층의 출력개수\n",
    "\n",
    "hist = model.fit(X_train, y_train, epochs=5, batch_size=100)"
   ]
  },
  {
   "cell_type": "code",
   "execution_count": 44,
   "metadata": {},
   "outputs": [
    {
     "name": "stdout",
     "output_type": "stream",
     "text": [
      "10000/10000 [==============================] - 0s 20us/step\n",
      "[0.07158310614846414, 0.9786999821662903]\n"
     ]
    }
   ],
   "source": [
    "perform = model.evaluate(X_test, y_test, batch_size=100)\n",
    "print(perform)"
   ]
  },
  {
   "cell_type": "markdown",
   "metadata": {},
   "source": [
    "---\n",
    "<font color=red>\n",
    "\n",
    "### CNN\n",
    "</font>"
   ]
  },
  {
   "cell_type": "code",
   "execution_count": 45,
   "metadata": {},
   "outputs": [],
   "source": [
    "from keras import layers"
   ]
  },
  {
   "cell_type": "code",
   "execution_count": 49,
   "metadata": {},
   "outputs": [],
   "source": [
    "# conv layer : 필터개수 32개, 필터크기 3*3\n",
    "# 입력데이터 : 28*28*1(흑백)\n",
    "\n",
    "model = Sequential()\n",
    "\n",
    "#### layers.Conv2D(출력개수, (필터사이즈, 필터사이즈), 액티베이션, 입력개수) ; conv를 추가하기 위한 패키지\n",
    "model.add(layers.Conv2D(32, (3,3), activation='relu', input_shape=(28, 28, 1)))\n",
    "model.add(layers.MaxPool2D((2, 2)))\n",
    "\n",
    "model.add(layers.Conv2D(64, (3,3), activation='relu'))\n",
    "model.add(layers.MaxPool2D((2, 2)))\n",
    "\n",
    "model.add(layers.Conv2D(64, (3,3), activation='relu'))\n",
    "\n",
    "### 위 데이터는 3차원이니까 FC로 넘겨주기 위해서 1차원으로 바꿔주쟈\n",
    "model.add(layers.Flatten()) # 1차원으로 펼쳐주고요\n",
    "model.add(Dense(64, activation='relu'))\n",
    "model.add(Dense(10, activation='softmax'))\n",
    "\n",
    "# model.summary()"
   ]
  },
  {
   "cell_type": "code",
   "execution_count": 50,
   "metadata": {},
   "outputs": [
    {
     "name": "stdout",
     "output_type": "stream",
     "text": [
      "Epoch 1/5\n",
      "60000/60000 [==============================] - 14s 225us/step - loss: 0.2189 - accuracy: 0.9340\n",
      "Epoch 2/5\n",
      "60000/60000 [==============================] - 14s 228us/step - loss: 0.0552 - accuracy: 0.9832\n",
      "Epoch 3/5\n",
      "60000/60000 [==============================] - 14s 225us/step - loss: 0.0388 - accuracy: 0.9881\n",
      "Epoch 4/5\n",
      "60000/60000 [==============================] - 14s 230us/step - loss: 0.0317 - accuracy: 0.9900\n",
      "Epoch 5/5\n",
      "60000/60000 [==============================] - 15s 254us/step - loss: 0.0242 - accuracy: 0.9921\n"
     ]
    }
   ],
   "source": [
    "# MNIST 데이터 갖고오기\n",
    "(X_train, y_train), (X_test, y_test) = mnist.load_data()\n",
    "\n",
    "# one-hot encoding\n",
    "y_train = np_utils.to_categorical(y_train) # 데이터를 범주화시켜주는 함수\n",
    "y_test = np_utils.to_categorical(y_test)\n",
    "\n",
    "# Conv는 4차원으로 데이터 입력해야하니까 reshape~~\n",
    "X_train = X_train.reshape(60000, 28, 28, 1)/255\n",
    "X_test = X_test.reshape(10000, 28, 28, 1)/255\n",
    "\n",
    "##################### 데이터를 잘 선별해놔야 converution을 머시기저시기 엨\n",
    "\n",
    "# 위 셀에 작성해둠 ㅎ\n",
    "\n",
    "#####################\n",
    "\n",
    "model.compile(loss=\"categorical_crossentropy\", optimizer=\"adam\", metrics=[\"accuracy\"])\n",
    "hist = model.fit(X_train, y_train, epochs=5, batch_size=100)"
   ]
  },
  {
   "cell_type": "code",
   "execution_count": null,
   "metadata": {},
   "outputs": [],
   "source": []
  },
  {
   "cell_type": "code",
   "execution_count": null,
   "metadata": {},
   "outputs": [],
   "source": []
  },
  {
   "cell_type": "code",
   "execution_count": null,
   "metadata": {},
   "outputs": [],
   "source": []
  },
  {
   "cell_type": "code",
   "execution_count": null,
   "metadata": {},
   "outputs": [],
   "source": []
  },
  {
   "cell_type": "code",
   "execution_count": null,
   "metadata": {},
   "outputs": [],
   "source": []
  },
  {
   "cell_type": "code",
   "execution_count": null,
   "metadata": {},
   "outputs": [],
   "source": []
  }
 ],
 "metadata": {
  "kernelspec": {
   "display_name": "Python 3",
   "language": "python",
   "name": "python3"
  },
  "language_info": {
   "codemirror_mode": {
    "name": "ipython",
    "version": 3
   },
   "file_extension": ".py",
   "mimetype": "text/x-python",
   "name": "python",
   "nbconvert_exporter": "python",
   "pygments_lexer": "ipython3",
   "version": "3.7.6"
  }
 },
 "nbformat": 4,
 "nbformat_minor": 4
}
