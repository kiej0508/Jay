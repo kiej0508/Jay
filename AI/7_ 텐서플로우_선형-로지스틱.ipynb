{
 "cells": [
  {
   "cell_type": "code",
   "execution_count": 1,
   "metadata": {},
   "outputs": [],
   "source": [
    "import tensorflow as tf\n",
    "import numpy as np\n",
    "import pandas as pd\n",
    "import matplotlib.pylab as plt\n",
    "import sys\n",
    "import matplotlib as mpl\n",
    "import matplotlib.font_manager as fm\n",
    "font_name = fm.FontProperties(fname=\"C:/Windows/Fonts/malgun.ttf\").get_name()    \n",
    "font_name\n",
    "plt.rc('font', family=font_name)\n",
    "mpl.rcParams[\"axes.unicode_minus\"]=False    #마이너스를 문자로 쓰지 않고 숫자로 쓰겠다. 라는 뜻"
   ]
  },
  {
   "cell_type": "markdown",
   "metadata": {},
   "source": [
    "<font color=red>\n",
    "    \n",
    "### 단순 선형 회귀모델\n",
    "<font>"
   ]
  },
  {
   "cell_type": "code",
   "execution_count": 72,
   "metadata": {},
   "outputs": [
    {
     "data": {
      "image/png": "[encoded data removed]",
      "text/plain": [
       "<Figure size 432x288 with 1 Axes>"
      ]
     },
     "metadata": {
      "needs_background": "light"
     },
     "output_type": "display_data"
    }
   ],
   "source": [
    "### 데이터 준비 ###\n",
    "X_train = [1, 2, 3]\n",
    "y_train = [1, 2, 3]\n",
    "\n",
    "# 입력된 X의 결과값 y가 위와 같으려면\n",
    "# wx + b = y 에서 w=1, b=0이어야 함\n",
    "# 이런식으로 w, b를 찾아가는 과정임\n",
    "\n",
    "# 이 w를 찾는 과정을 알아볼 것입니당 ^-^\n",
    "W = tf.placeholder(tf.float32)\n",
    "\n",
    "### 가설 준비(wx+b) ###\n",
    "# 예측값\n",
    "hypot = W * X_train # W는 이따가 반복문에서 넣어줄겁니다\n",
    "\n",
    "# 비용 함수 준비 : (예측값 - 실제값)^2\n",
    "cost = tf.reduce_mean(tf.square(hypot - y_train))\n",
    "\n",
    "########################### 텐서플로우 그래프 완성 ###########################\n",
    "\n",
    "# 비용함수를 그래프로 그리기\n",
    "sess = tf.Session()\n",
    "\n",
    "cost_val = []\n",
    "# w 찾을 반복문쓰\n",
    "for i in range(-30, 50):\n",
    "    cost_result = sess.run(cost, feed_dict={W:i*0.1}) # 실행할 때 W한테 i*0.1값을 넘겨줘서 학습 시켜 봅니다\n",
    "#     print(cost_result) # 비용이 가장 낮은 지점이 우리가 찾고자 하는 지점, 학습의 목표\n",
    "    cost_val.append(cost_result)\n",
    "\n",
    "plt.plot(cost_val) # 가중치(w)의 학습 곡선\n",
    "plt.title(\"가중치(w)의 학습 곡선\")\n",
    "\n",
    "sess.close()"
   ]
  },
  {
   "cell_type": "markdown",
   "metadata": {},
   "source": [
    "<font color=red>\n",
    "    \n",
    "### 경사하강 알고리즘을 이용한 가중치 학습\n",
    "<font>"
   ]
  },
  {
   "cell_type": "code",
   "execution_count": 41,
   "metadata": {},
   "outputs": [
    {
     "name": "stdout",
     "output_type": "stream",
     "text": [
      "step 0 / cost 8.8780517578125 / [-0.6767317]\n",
      "step 1 / cost 7.859887599945068 / [-0.5984842]\n",
      "step 2 / cost 6.947781085968018 / [-0.5238883]\n",
      "step 3 / cost 6.1314473152160645 / [-0.4527735]\n",
      "step 4 / cost 5.401566028594971 / [-0.3849774]\n",
      "step 5 / cost 4.749694347381592 / [-0.32034513]\n",
      "step 6 / cost 4.168186187744141 / [-0.25872904]\n",
      "step 7 / cost 3.6501166820526123 / [-0.19998835]\n",
      "step 8 / cost 3.189216375350952 / [-0.14398889]\n",
      "step 9 / cost 2.7798092365264893 / [-0.09060274]\n",
      "step 10 / cost 2.416760206222534 / [-0.03970795]\n",
      "step 11 / cost 2.095421552658081 / [0.00881176]\n",
      "step 12 / cost 1.8115878105163574 / [0.05506721]\n",
      "step 13 / cost 1.5614581108093262 / [0.09916407]\n",
      "step 14 / cost 1.3415943384170532 / [0.14120308]\n",
      "step 15 / cost 1.148889183998108 / [0.18128027]\n",
      "step 16 / cost 0.9805346131324768 / [0.21948719]\n",
      "step 17 / cost 0.8339949250221252 / [0.2559111]\n",
      "step 18 / cost 0.7069792151451111 / [0.29063526]\n",
      "step 19 / cost 0.5974201560020447 / [0.32373893]\n",
      "step 20 / cost 0.5034521818161011 / [0.35529777]\n"
     ]
    }
   ],
   "source": [
    "### 데이터 준비 ###\n",
    "X_train = [1, 2, 3]\n",
    "y_train = [1, 2, 3]\n",
    "\n",
    "# wx + b = y 에서 y를 찾기 위해 W와 b를 준비해야함\n",
    "W = tf.Variable(tf.random_normal([1]), dtype=tf.float32, name=\"Weight\") # 스스로 값을 바꿔가며 직접 찾아야하니까 placeholder 말고 Variable\n",
    "b = tf.Variable(tf.random_normal([1]), dtype=tf.float32, name=\"bias\")\n",
    "\n",
    "### 가설 준비 ###\n",
    "hypothesis = W * X_train + b\n",
    "\n",
    "### 비용 함수 준비 ###\n",
    "cost = tf.reduce_mean(tf.square(hypothesis - y_train))\n",
    "\n",
    "### 최저비용 학습을 위한 경사 하강 알고리즘(Graidiant Descent)\n",
    "\n",
    "# Graidiant Descent : W := W(가중치) - α(하이퍼파라미터) * cost * 실제값\n",
    "# 0.1 = 하이퍼파라미터, 내가 이것저것 넣어서 시도해볼....\n",
    "learning_rate = 0.01\n",
    "gradiant = tf.reduce_mean((W * X_train - y_train) * X_train)\n",
    "descent = W - learning_rate * gradiant\n",
    "update = W.assign(descent) # W :=  → 다시 W에다가 할당하면서 반복해서 학습하는 거\n",
    "\n",
    "########################### 텐서플로우 그래프 완성 ###########################\n",
    "\n",
    "# 경사하강 알고리즘을 그래프로 그리기\n",
    "sess = tf.Session()\n",
    "sess.run(tf.global_variables_initializer()) # Variable을 썼으니까 초기화 시키고 ㄱㄱ\n",
    "\n",
    "for step in range(21):\n",
    "    _, c, w = sess.run([update, cost, W])\n",
    "    print(\"step : {} / cost : {} / W : {}\".format(step, c, w))\n",
    "\n",
    "sess.close()"
   ]
  },
  {
   "cell_type": "code",
   "execution_count": 45,
   "metadata": {},
   "outputs": [
    {
     "name": "stdout",
     "output_type": "stream",
     "text": [
      "step : 0 / cost : 8.834877014160156 / W : [0.47872943]\n",
      "step : 1 / cost : 7.626119136810303 / W : [0.53606915]\n",
      "step : 2 / cost : 6.627128601074219 / W : [0.5871016]\n",
      "step : 3 / cost : 5.798861026763916 / W : [0.63252044]\n",
      "step : 4 / cost : 5.109890460968018 / W : [0.6729432]\n",
      "step : 5 / cost : 4.534876823425293 / W : [0.7089194]\n",
      "step : 6 / cost : 4.053348064422607 / W : [0.74093825]\n",
      "step : 7 / cost : 3.6487369537353516 / W : [0.76943505]\n",
      "step : 8 / cost : 3.3076014518737793 / W : [0.7947972]\n",
      "step : 9 / cost : 3.019017457962036 / W : [0.8173695]\n",
      "step : 10 / cost : 2.774078369140625 / W : [0.83745885]\n",
      "step : 11 / cost : 2.5655112266540527 / W : [0.8553384]\n",
      "step : 12 / cost : 2.3873536586761475 / W : [0.87125117]\n",
      "step : 13 / cost : 2.234708309173584 / W : [0.8854135]\n",
      "step : 14 / cost : 2.10353946685791 / W : [0.89801806]\n",
      "step : 15 / cost : 1.9905102252960205 / W : [0.9092361]\n",
      "step : 16 / cost : 1.8928539752960205 / W : [0.9192201]\n",
      "step : 17 / cost : 1.8082683086395264 / W : [0.9281059]\n",
      "step : 18 / cost : 1.7348315715789795 / W : [0.93601424]\n",
      "step : 19 / cost : 1.670933723449707 / W : [0.94305265]\n",
      "step : 20 / cost : 1.6152222156524658 / W : [0.94931686]\n"
     ]
    }
   ],
   "source": [
    "### 데이터가 나중에 제공될 때 ###\n",
    "X_train = tf.placeholder(tf.float32, shape=[None]) # shape=[??] : 값을 ??개만 받아오겠다\n",
    "y_train = tf.placeholder(tf.float32, shape=[None]) # shape=[None] : 값의 갯수를 지정하지 않고 받아오겠다\n",
    "\n",
    "# wx + b = y 에서 y를 찾기 위해 W와 b를 준비해야함\n",
    "W = tf.Variable(tf.random_normal([1]), dtype=tf.float32, name=\"Weight\")\n",
    "b = tf.Variable(tf.random_normal([1]), dtype=tf.float32, name=\"bias\")\n",
    "\n",
    "### 가설 준비 ###\n",
    "hypothesis = W * X_train + b\n",
    "\n",
    "### 비용 함수 준비 ###\n",
    "cost = tf.reduce_mean(tf.square(hypothesis - y_train))\n",
    "\n",
    "### 최저비용 학습을 위한 경사 하강 알고리즘(Graidiant Descent)\n",
    "\n",
    "# Graidiant Descent : W := W(가중치) - α(하이퍼파라미터) * cost * 실제값\n",
    "# 0.1 = 하이퍼파라미터, 내가 이것저것 넣어서 시도해볼....\n",
    "learning_rate = 0.01\n",
    "gradiant = tf.reduce_mean((W * X_train - y_train) * X_train)\n",
    "descent = W - learning_rate * gradiant\n",
    "update = W.assign(descent) # W :=  → 다시 W에다가 할당하면서 반복해서 학습하는 거\n",
    "\n",
    "########################### 텐서플로우 그래프 완성 ###########################\n",
    "\n",
    "# 경사하강 알고리즘 확인하기\n",
    "sess = tf.Session()\n",
    "sess.run(tf.global_variables_initializer()) # Variable을 썼으니까 초기화 시키고 ㄱㄱ\n",
    "\n",
    "for step in range(21):\n",
    "    _, c, w = sess.run([update, cost, W],\n",
    "                       feed_dict={X_train:[1, 2, 3, 4, 5], y_train:[1, 2, 3, 4, 5]}) # 데이터 값 여기서 넘겨줌~\n",
    "    print(\"step : {} / cost : {} / W : {}\".format(step, c, w))\n",
    "\n",
    "sess.close()"
   ]
  },
  {
   "cell_type": "code",
   "execution_count": 67,
   "metadata": {},
   "outputs": [
    {
     "name": "stdout",
     "output_type": "stream",
     "text": [
      "step : 0 / cost : 1.538783311843872 / W : [1.1073107] / b : [-0.2176714]\n",
      "step : 100 / cost : 0.14577217400074005 / W : [1.2470385] / b : [0.20811282]\n",
      "step : 200 / cost : 0.0740475207567215 / W : [1.1760688] / b : [0.4643356]\n",
      "step : 300 / cost : 0.03761374205350876 / W : [1.1254876] / b : [0.64695024]\n",
      "step : 400 / cost : 0.01910652592778206 / W : [1.0894371] / b : [0.7771034]\n",
      "step : 500 / cost : 0.00970547553151846 / W : [1.0637436] / b : [0.8698657]\n",
      "step : 600 / cost : 0.004930044990032911 / W : [1.045431] / b : [0.9359794]\n",
      "step : 700 / cost : 0.0025042961351573467 / W : [1.0323795] / b : [0.9830995]\n",
      "step : 800 / cost : 0.0012720994418486953 / W : [1.0230774] / b : [1.0166831]\n",
      "step : 900 / cost : 0.0006461740122176707 / W : [1.0164477] / b : [1.0406188]\n",
      "step : 1000 / cost : 0.00032823352375999093 / W : [1.0117224] / b : [1.0576781]\n",
      "step : 1100 / cost : 0.00016673676145728678 / W : [1.0083549] / b : [1.069836]\n",
      "step : 1200 / cost : 8.469658496323973e-05 / W : [1.0059547] / b : [1.0785015]\n",
      "step : 1300 / cost : 4.302078014006838e-05 / W : [1.004244] / b : [1.0846778]\n",
      "step : 1400 / cost : 2.185331868531648e-05 / W : [1.0030248] / b : [1.0890796]\n",
      "step : 1500 / cost : 1.1101189556939062e-05 / W : [1.0021559] / b : [1.0922166]\n",
      "step : 1600 / cost : 5.6401913752779365e-06 / W : [1.0015366] / b : [1.0944524]\n",
      "step : 1700 / cost : 2.8645572456298396e-06 / W : [1.0010952] / b : [1.0960462]\n",
      "step : 1800 / cost : 1.455341021028289e-06 / W : [1.0007807] / b : [1.0971818]\n",
      "step : 1900 / cost : 7.394824024231639e-07 / W : [1.0005565] / b : [1.0979911]\n",
      "step : 2000 / cost : 3.7587034285024856e-07 / W : [1.0003967] / b : [1.098568]\n"
     ]
    }
   ],
   "source": [
    "### 텐서플로우의 경사하강 알고리즘 함수를 이용할 때 ###\n",
    "\n",
    "X_train = tf.placeholder(tf.float32, shape=[None]) # shape=[??] : 값을 ??개만 받아오겠다\n",
    "y_train = tf.placeholder(tf.float32, shape=[None]) # shape=[None] : 값의 갯수를 지정하지 않고 받아오겠다\n",
    "\n",
    "# wx + b = y 에서 y를 찾기 위해 W와 b를 준비해야함\n",
    "W = tf.Variable(tf.random_normal([1]), dtype=tf.float32, name=\"Weight\")\n",
    "b = tf.Variable(tf.random_normal([1]), dtype=tf.float32, name=\"bias\")\n",
    "\n",
    "### 가설 준비 ###\n",
    "hypothesis = W * X_train + b\n",
    "\n",
    "### 비용 함수 준비 ###\n",
    "cost = tf.reduce_mean(tf.square(hypothesis - y_train))\n",
    "\n",
    "### 최저비용 학습을 위한 경사 하강 알고리즘(Graidiant Descent)\n",
    "\n",
    "# Graidiant Descent : W := W(가중치) - α(하이퍼파라미터) * cost * 실제값\n",
    "# 0.1 = 하이퍼파라미터, 내가 이것저것 넣어서 시도해볼....\n",
    "optimizer = tf.train.GradientDescentOptimizer(learning_rate=0.01)\n",
    "train = optimizer.minimize(cost)\n",
    "# 위 두줄 하나로 쓸 수 이찌? optimizer = tf.train.GradientDescentOptimizer(learning_rate=0.1).minimize(cost)\n",
    "\n",
    "########################### 텐서플로우 그래프 완성 ###########################\n",
    "\n",
    "# 경사하강 알고리즘 확인하기\n",
    "sess = tf.Session()\n",
    "sess.run(tf.global_variables_initializer()) # Variable을 썼으니까 초기화 시키고 ㄱㄱ\n",
    "\n",
    "for step in range(2001):\n",
    "    _, curr_c, curr_w, curr_b = sess.run([train, cost, W, b],\n",
    "                       feed_dict={X_train:[1, 2, 3, 4, 5], y_train:[2.1, 3.1, 4.1, 5.1, 6.1]}) # 데이터 값 여기서 넘겨줌~\n",
    "    if step % 100 == 0 :\n",
    "        print(\"step : {} / cost : {} / W : {} / b : {}\".format(step, curr_c, curr_w, curr_b))\n",
    "\n",
    "# learning Rate조 중요하지만, 충분한 학습 횟수도 중요\n"
   ]
  },
  {
   "cell_type": "code",
   "execution_count": 69,
   "metadata": {},
   "outputs": [
    {
     "name": "stdout",
     "output_type": "stream",
     "text": [
      "[28.10928]\n"
     ]
    }
   ],
   "source": [
    "# Tesitng\n",
    "print(sess.run(hypothesis, feed_dict={X_train:[27]}))\n",
    "\n",
    "sess.close()"
   ]
  },
  {
   "cell_type": "code",
   "execution_count": null,
   "metadata": {},
   "outputs": [],
   "source": [
    "# 아래의 데이터를 가지고 하루 6시간을 일했을 때 매출액이 얼마인지 예측하시오\n",
    "X = [1, 2, 3, 4, 5, 6, 7]\n",
    "y = [25000, 55000, 75000, 110000, 128000, 155000, 180000]\n",
    "\n"
   ]
  },
  {
   "cell_type": "code",
   "execution_count": 82,
   "metadata": {},
   "outputs": [
    {
     "name": "stdout",
     "output_type": "stream",
     "text": [
      "step : 0 / cost : 13456263168.0 / W : [5184.555] / b : [0.45890057]\n",
      "step : 100 / cost : 9040557.0 / W : [25928.566] / b : [0.45890057]\n",
      "step : 200 / cost : 9040557.0 / W : [25928.566] / b : [0.45890057]\n",
      "step : 300 / cost : 9040557.0 / W : [25928.566] / b : [0.45890057]\n",
      "step : 400 / cost : 9040557.0 / W : [25928.566] / b : [0.45890057]\n",
      "step : 500 / cost : 9040557.0 / W : [25928.566] / b : [0.45890057]\n",
      "step : 600 / cost : 9040557.0 / W : [25928.566] / b : [0.45890057]\n",
      "step : 700 / cost : 9040557.0 / W : [25928.566] / b : [0.45890057]\n",
      "step : 800 / cost : 9040557.0 / W : [25928.566] / b : [0.45890057]\n",
      "step : 900 / cost : 9040557.0 / W : [25928.566] / b : [0.45890057]\n",
      "step : 1000 / cost : 9040557.0 / W : [25928.566] / b : [0.45890057]\n",
      "step : 1100 / cost : 9040557.0 / W : [25928.566] / b : [0.45890057]\n",
      "step : 1200 / cost : 9040557.0 / W : [25928.566] / b : [0.45890057]\n",
      "step : 1300 / cost : 9040557.0 / W : [25928.566] / b : [0.45890057]\n",
      "step : 1400 / cost : 9040557.0 / W : [25928.566] / b : [0.45890057]\n",
      "step : 1500 / cost : 9040557.0 / W : [25928.566] / b : [0.45890057]\n",
      "step : 1600 / cost : 9040557.0 / W : [25928.566] / b : [0.45890057]\n",
      "step : 1700 / cost : 9040557.0 / W : [25928.566] / b : [0.45890057]\n",
      "step : 1800 / cost : 9040557.0 / W : [25928.566] / b : [0.45890057]\n",
      "step : 1900 / cost : 9040557.0 / W : [25928.566] / b : [0.45890057]\n",
      "step : 2000 / cost : 9040557.0 / W : [25928.566] / b : [0.45890057]\n"
     ]
    },
    {
     "ename": "TypeError",
     "evalue": "unhashable type: 'list'",
     "output_type": "error",
     "traceback": [
      "\u001b[1;31m---------------------------------------------------------------------------\u001b[0m",
      "\u001b[1;31mTypeError\u001b[0m                                 Traceback (most recent call last)",
      "\u001b[1;32m<ipython-input-82-89e45d3a53de>\u001b[0m in \u001b[0;36m<module>\u001b[1;34m\u001b[0m\n\u001b[0;32m     33\u001b[0m         \u001b[0mprint\u001b[0m\u001b[1;33m(\u001b[0m\u001b[1;34m\"step : {} / cost : {} / W : {} / b : {}\"\u001b[0m\u001b[1;33m.\u001b[0m\u001b[0mformat\u001b[0m\u001b[1;33m(\u001b[0m\u001b[0mstep\u001b[0m\u001b[1;33m,\u001b[0m \u001b[0mcurr_c\u001b[0m\u001b[1;33m,\u001b[0m \u001b[0mcurr_w\u001b[0m\u001b[1;33m,\u001b[0m \u001b[0mcurr_b\u001b[0m\u001b[1;33m)\u001b[0m\u001b[1;33m)\u001b[0m\u001b[0;31m\\\u001b[0m\u001b[1;33m\u001b[0m\u001b[1;33m\u001b[0m\u001b[0m\n\u001b[0;32m     34\u001b[0m \u001b[1;33m\u001b[0m\u001b[0m\n\u001b[1;32m---> 35\u001b[1;33m \u001b[0mprint\u001b[0m\u001b[1;33m(\u001b[0m\u001b[0msess\u001b[0m\u001b[1;33m.\u001b[0m\u001b[0mrun\u001b[0m\u001b[1;33m(\u001b[0m\u001b[0mhypothsis\u001b[0m\u001b[1;33m,\u001b[0m \u001b[0mfeed_dict\u001b[0m\u001b[1;33m=\u001b[0m\u001b[1;33m{\u001b[0m\u001b[0mX_data\u001b[0m\u001b[1;33m:\u001b[0m\u001b[1;36m8\u001b[0m\u001b[1;33m}\u001b[0m\u001b[1;33m)\u001b[0m\u001b[1;33m)\u001b[0m\u001b[1;33m\u001b[0m\u001b[1;33m\u001b[0m\u001b[0m\n\u001b[0m\u001b[0;32m     36\u001b[0m \u001b[1;33m\u001b[0m\u001b[0m\n\u001b[0;32m     37\u001b[0m \u001b[0msess\u001b[0m\u001b[1;33m.\u001b[0m\u001b[0mclose\u001b[0m\u001b[1;33m(\u001b[0m\u001b[1;33m)\u001b[0m\u001b[1;33m\u001b[0m\u001b[1;33m\u001b[0m\u001b[0m\n",
      "\u001b[1;31mTypeError\u001b[0m: unhashable type: 'list'"
     ]
    }
   ],
   "source": [
    "### 데이터 준비 ###\n",
    "X_data = [1, 2, 3, 4, 5, 6, 7]\n",
    "y_data = [25000, 55000, 75000, 110000, 128000, 155000, 180000]\n",
    "\n",
    "# wx + b = y 에서 y를 찾기 위해 W와 b를 준비해야함\n",
    "W = tf.Variable(tf.random_normal([1]), dtype=tf.float32, name=\"Weight\") # 스스로 값을 바꿔가며 직접 찾아야하니까 placeholder 말고 Variable\n",
    "b = tf.Variable(tf.random_normal([1]), dtype=tf.float32, name=\"bias\")\n",
    "\n",
    "### 가설 준비 ###\n",
    "hypothesis = W * X_data + b\n",
    "\n",
    "### 비용 함수 준비 ###\n",
    "cost = tf.reduce_mean(tf.square(hypothesis - y_data))\n",
    "\n",
    "### 최저비용 학습을 위한 경사 하강 알고리즘(Graidiant Descent)\n",
    "\n",
    "# Graidiant Descent : W := W(가중치) - α(하이퍼파라미터) * cost * 실제값\n",
    "# 0.1 = 하이퍼파라미터, 내가 이것저것 넣어서 시도해볼....\n",
    "learning_rate = 0.01\n",
    "gradiant = tf.reduce_mean((W * X_data - y_data) * X_data)\n",
    "descent = W - learning_rate * gradiant\n",
    "update = W.assign(descent) # W :=  → 다시 W에다가 할당하면서 반복해서 학습하는 거\n",
    "\n",
    "########################### 텐서플로우 그래프 완성 ###########################\n",
    "\n",
    "# 경사하강 알고리즘을 그래프로 그리기\n",
    "sess = tf.Session()\n",
    "sess.run(tf.global_variables_initializer()) # Variable을 썼으니까 초기화 시키고 ㄱㄱ\n",
    "\n",
    "for step in range(2001):\n",
    "    _, curr_c, curr_w, curr_b = sess.run([update, cost, W, b])\n",
    "    if step % 100 == 0 :\n",
    "        print(\"step : {} / cost : {} / W : {} / b : {}\".format(step, curr_c, curr_w, curr_b))\\\n",
    "\n",
    "print(sess.run(hypothesis, feed_dict={X_data:8}))\n",
    "\n",
    "sess.close()"
   ]
  },
  {
   "cell_type": "markdown",
   "metadata": {},
   "source": [
    "<font color=red>\n",
    "    \n",
    "### 다중 선형 회귀모델\n",
    "<font>"
   ]
  },
  {
   "cell_type": "code",
   "execution_count": 83,
   "metadata": {},
   "outputs": [],
   "source": [
    "x1_data = [73., 93., 89., 96., 73.]\n",
    "x2_data = [80., 88., 91., 98., 66.]\n",
    "x3_data = [75., 93., 90., 100., 70.]\n",
    "y_data = [152., 185., 180., 196., 142.]"
   ]
  },
  {
   "cell_type": "code",
   "execution_count": 90,
   "metadata": {},
   "outputs": [
    {
     "ename": "ValueError",
     "evalue": "Dimensions must be equal, but are 1 and 5 for 'MatMul_2' (op: 'MatMul') with input shapes: [3,1], [5,3].",
     "output_type": "error",
     "traceback": [
      "\u001b[1;31m---------------------------------------------------------------------------\u001b[0m",
      "\u001b[1;31mInvalidArgumentError\u001b[0m                      Traceback (most recent call last)",
      "\u001b[1;32m~\\AppData\\Local\\Continuum\\anaconda3\\envs\\tf1\\lib\\site-packages\\tensorflow_core\\python\\framework\\ops.py\u001b[0m in \u001b[0;36m_create_c_op\u001b[1;34m(graph, node_def, inputs, control_inputs)\u001b[0m\n\u001b[0;32m   1606\u001b[0m   \u001b[1;32mtry\u001b[0m\u001b[1;33m:\u001b[0m\u001b[1;33m\u001b[0m\u001b[1;33m\u001b[0m\u001b[0m\n\u001b[1;32m-> 1607\u001b[1;33m     \u001b[0mc_op\u001b[0m \u001b[1;33m=\u001b[0m \u001b[0mc_api\u001b[0m\u001b[1;33m.\u001b[0m\u001b[0mTF_FinishOperation\u001b[0m\u001b[1;33m(\u001b[0m\u001b[0mop_desc\u001b[0m\u001b[1;33m)\u001b[0m\u001b[1;33m\u001b[0m\u001b[1;33m\u001b[0m\u001b[0m\n\u001b[0m\u001b[0;32m   1608\u001b[0m   \u001b[1;32mexcept\u001b[0m \u001b[0merrors\u001b[0m\u001b[1;33m.\u001b[0m\u001b[0mInvalidArgumentError\u001b[0m \u001b[1;32mas\u001b[0m \u001b[0me\u001b[0m\u001b[1;33m:\u001b[0m\u001b[1;33m\u001b[0m\u001b[1;33m\u001b[0m\u001b[0m\n",
      "\u001b[1;31mInvalidArgumentError\u001b[0m: Dimensions must be equal, but are 1 and 5 for 'MatMul_2' (op: 'MatMul') with input shapes: [3,1], [5,3].",
      "\nDuring handling of the above exception, another exception occurred:\n",
      "\u001b[1;31mValueError\u001b[0m                                Traceback (most recent call last)",
      "\u001b[1;32m<ipython-input-90-4b885f69eb1b>\u001b[0m in \u001b[0;36m<module>\u001b[1;34m\u001b[0m\n\u001b[0;32m     11\u001b[0m \u001b[1;33m\u001b[0m\u001b[0m\n\u001b[0;32m     12\u001b[0m \u001b[1;31m# 가설 설정\u001b[0m\u001b[1;33m\u001b[0m\u001b[1;33m\u001b[0m\u001b[1;33m\u001b[0m\u001b[0m\n\u001b[1;32m---> 13\u001b[1;33m \u001b[0mhypothesis\u001b[0m \u001b[1;33m=\u001b[0m \u001b[0mtf\u001b[0m\u001b[1;33m.\u001b[0m\u001b[0mmatmul\u001b[0m\u001b[1;33m(\u001b[0m\u001b[0mW\u001b[0m\u001b[1;33m,\u001b[0m \u001b[0mX\u001b[0m\u001b[1;33m)\u001b[0m \u001b[1;33m+\u001b[0m \u001b[0mb\u001b[0m\u001b[1;33m\u001b[0m\u001b[1;33m\u001b[0m\u001b[0m\n\u001b[0m\u001b[0;32m     14\u001b[0m \u001b[1;33m\u001b[0m\u001b[0m\n\u001b[0;32m     15\u001b[0m \u001b[1;31m# 비용 함수\u001b[0m\u001b[1;33m\u001b[0m\u001b[1;33m\u001b[0m\u001b[1;33m\u001b[0m\u001b[0m\n",
      "\u001b[1;32m~\\AppData\\Local\\Continuum\\anaconda3\\envs\\tf1\\lib\\site-packages\\tensorflow_core\\python\\util\\dispatch.py\u001b[0m in \u001b[0;36mwrapper\u001b[1;34m(*args, **kwargs)\u001b[0m\n\u001b[0;32m    178\u001b[0m     \u001b[1;34m\"\"\"Call target, and fall back on dispatchers if there is a TypeError.\"\"\"\u001b[0m\u001b[1;33m\u001b[0m\u001b[1;33m\u001b[0m\u001b[0m\n\u001b[0;32m    179\u001b[0m     \u001b[1;32mtry\u001b[0m\u001b[1;33m:\u001b[0m\u001b[1;33m\u001b[0m\u001b[1;33m\u001b[0m\u001b[0m\n\u001b[1;32m--> 180\u001b[1;33m       \u001b[1;32mreturn\u001b[0m \u001b[0mtarget\u001b[0m\u001b[1;33m(\u001b[0m\u001b[1;33m*\u001b[0m\u001b[0margs\u001b[0m\u001b[1;33m,\u001b[0m \u001b[1;33m**\u001b[0m\u001b[0mkwargs\u001b[0m\u001b[1;33m)\u001b[0m\u001b[1;33m\u001b[0m\u001b[1;33m\u001b[0m\u001b[0m\n\u001b[0m\u001b[0;32m    181\u001b[0m     \u001b[1;32mexcept\u001b[0m \u001b[1;33m(\u001b[0m\u001b[0mTypeError\u001b[0m\u001b[1;33m,\u001b[0m \u001b[0mValueError\u001b[0m\u001b[1;33m)\u001b[0m\u001b[1;33m:\u001b[0m\u001b[1;33m\u001b[0m\u001b[1;33m\u001b[0m\u001b[0m\n\u001b[0;32m    182\u001b[0m       \u001b[1;31m# Note: convert_to_eager_tensor currently raises a ValueError, not a\u001b[0m\u001b[1;33m\u001b[0m\u001b[1;33m\u001b[0m\u001b[1;33m\u001b[0m\u001b[0m\n",
      "\u001b[1;32m~\\AppData\\Local\\Continuum\\anaconda3\\envs\\tf1\\lib\\site-packages\\tensorflow_core\\python\\ops\\math_ops.py\u001b[0m in \u001b[0;36mmatmul\u001b[1;34m(a, b, transpose_a, transpose_b, adjoint_a, adjoint_b, a_is_sparse, b_is_sparse, name)\u001b[0m\n\u001b[0;32m   2752\u001b[0m     \u001b[1;32melse\u001b[0m\u001b[1;33m:\u001b[0m\u001b[1;33m\u001b[0m\u001b[1;33m\u001b[0m\u001b[0m\n\u001b[0;32m   2753\u001b[0m       return gen_math_ops.mat_mul(\n\u001b[1;32m-> 2754\u001b[1;33m           a, b, transpose_a=transpose_a, transpose_b=transpose_b, name=name)\n\u001b[0m\u001b[0;32m   2755\u001b[0m \u001b[1;33m\u001b[0m\u001b[0m\n\u001b[0;32m   2756\u001b[0m \u001b[1;33m\u001b[0m\u001b[0m\n",
      "\u001b[1;32m~\\AppData\\Local\\Continuum\\anaconda3\\envs\\tf1\\lib\\site-packages\\tensorflow_core\\python\\ops\\gen_math_ops.py\u001b[0m in \u001b[0;36mmat_mul\u001b[1;34m(a, b, transpose_a, transpose_b, name)\u001b[0m\n\u001b[0;32m   6133\u001b[0m   _, _, _op = _op_def_lib._apply_op_helper(\n\u001b[0;32m   6134\u001b[0m         \u001b[1;34m\"MatMul\"\u001b[0m\u001b[1;33m,\u001b[0m \u001b[0ma\u001b[0m\u001b[1;33m=\u001b[0m\u001b[0ma\u001b[0m\u001b[1;33m,\u001b[0m \u001b[0mb\u001b[0m\u001b[1;33m=\u001b[0m\u001b[0mb\u001b[0m\u001b[1;33m,\u001b[0m \u001b[0mtranspose_a\u001b[0m\u001b[1;33m=\u001b[0m\u001b[0mtranspose_a\u001b[0m\u001b[1;33m,\u001b[0m \u001b[0mtranspose_b\u001b[0m\u001b[1;33m=\u001b[0m\u001b[0mtranspose_b\u001b[0m\u001b[1;33m,\u001b[0m\u001b[1;33m\u001b[0m\u001b[1;33m\u001b[0m\u001b[0m\n\u001b[1;32m-> 6135\u001b[1;33m                   name=name)\n\u001b[0m\u001b[0;32m   6136\u001b[0m   \u001b[0m_result\u001b[0m \u001b[1;33m=\u001b[0m \u001b[0m_op\u001b[0m\u001b[1;33m.\u001b[0m\u001b[0moutputs\u001b[0m\u001b[1;33m[\u001b[0m\u001b[1;33m:\u001b[0m\u001b[1;33m]\u001b[0m\u001b[1;33m\u001b[0m\u001b[1;33m\u001b[0m\u001b[0m\n\u001b[0;32m   6137\u001b[0m   \u001b[0m_inputs_flat\u001b[0m \u001b[1;33m=\u001b[0m \u001b[0m_op\u001b[0m\u001b[1;33m.\u001b[0m\u001b[0minputs\u001b[0m\u001b[1;33m\u001b[0m\u001b[1;33m\u001b[0m\u001b[0m\n",
      "\u001b[1;32m~\\AppData\\Local\\Continuum\\anaconda3\\envs\\tf1\\lib\\site-packages\\tensorflow_core\\python\\framework\\op_def_library.py\u001b[0m in \u001b[0;36m_apply_op_helper\u001b[1;34m(self, op_type_name, name, **keywords)\u001b[0m\n\u001b[0;32m    792\u001b[0m         op = g.create_op(op_type_name, inputs, dtypes=None, name=scope,\n\u001b[0;32m    793\u001b[0m                          \u001b[0minput_types\u001b[0m\u001b[1;33m=\u001b[0m\u001b[0minput_types\u001b[0m\u001b[1;33m,\u001b[0m \u001b[0mattrs\u001b[0m\u001b[1;33m=\u001b[0m\u001b[0mattr_protos\u001b[0m\u001b[1;33m,\u001b[0m\u001b[1;33m\u001b[0m\u001b[1;33m\u001b[0m\u001b[0m\n\u001b[1;32m--> 794\u001b[1;33m                          op_def=op_def)\n\u001b[0m\u001b[0;32m    795\u001b[0m \u001b[1;33m\u001b[0m\u001b[0m\n\u001b[0;32m    796\u001b[0m       \u001b[1;31m# Conditionally invoke tfdbg v2's op callback(s).\u001b[0m\u001b[1;33m\u001b[0m\u001b[1;33m\u001b[0m\u001b[1;33m\u001b[0m\u001b[0m\n",
      "\u001b[1;32m~\\AppData\\Local\\Continuum\\anaconda3\\envs\\tf1\\lib\\site-packages\\tensorflow_core\\python\\util\\deprecation.py\u001b[0m in \u001b[0;36mnew_func\u001b[1;34m(*args, **kwargs)\u001b[0m\n\u001b[0;32m    505\u001b[0m                 \u001b[1;34m'in a future version'\u001b[0m \u001b[1;32mif\u001b[0m \u001b[0mdate\u001b[0m \u001b[1;32mis\u001b[0m \u001b[1;32mNone\u001b[0m \u001b[1;32melse\u001b[0m \u001b[1;33m(\u001b[0m\u001b[1;34m'after %s'\u001b[0m \u001b[1;33m%\u001b[0m \u001b[0mdate\u001b[0m\u001b[1;33m)\u001b[0m\u001b[1;33m,\u001b[0m\u001b[1;33m\u001b[0m\u001b[1;33m\u001b[0m\u001b[0m\n\u001b[0;32m    506\u001b[0m                 instructions)\n\u001b[1;32m--> 507\u001b[1;33m       \u001b[1;32mreturn\u001b[0m \u001b[0mfunc\u001b[0m\u001b[1;33m(\u001b[0m\u001b[1;33m*\u001b[0m\u001b[0margs\u001b[0m\u001b[1;33m,\u001b[0m \u001b[1;33m**\u001b[0m\u001b[0mkwargs\u001b[0m\u001b[1;33m)\u001b[0m\u001b[1;33m\u001b[0m\u001b[1;33m\u001b[0m\u001b[0m\n\u001b[0m\u001b[0;32m    508\u001b[0m \u001b[1;33m\u001b[0m\u001b[0m\n\u001b[0;32m    509\u001b[0m     doc = _add_deprecated_arg_notice_to_docstring(\n",
      "\u001b[1;32m~\\AppData\\Local\\Continuum\\anaconda3\\envs\\tf1\\lib\\site-packages\\tensorflow_core\\python\\framework\\ops.py\u001b[0m in \u001b[0;36mcreate_op\u001b[1;34m(***failed resolving arguments***)\u001b[0m\n\u001b[0;32m   3355\u001b[0m         \u001b[1;32mraise\u001b[0m \u001b[0mTypeError\u001b[0m\u001b[1;33m(\u001b[0m\u001b[1;34m\"Input #%d is not a tensor: %s\"\u001b[0m \u001b[1;33m%\u001b[0m \u001b[1;33m(\u001b[0m\u001b[0midx\u001b[0m\u001b[1;33m,\u001b[0m \u001b[0ma\u001b[0m\u001b[1;33m)\u001b[0m\u001b[1;33m)\u001b[0m\u001b[1;33m\u001b[0m\u001b[1;33m\u001b[0m\u001b[0m\n\u001b[0;32m   3356\u001b[0m     return self._create_op_internal(op_type, inputs, dtypes, input_types, name,\n\u001b[1;32m-> 3357\u001b[1;33m                                     attrs, op_def, compute_device)\n\u001b[0m\u001b[0;32m   3358\u001b[0m \u001b[1;33m\u001b[0m\u001b[0m\n\u001b[0;32m   3359\u001b[0m   def _create_op_internal(\n",
      "\u001b[1;32m~\\AppData\\Local\\Continuum\\anaconda3\\envs\\tf1\\lib\\site-packages\\tensorflow_core\\python\\framework\\ops.py\u001b[0m in \u001b[0;36m_create_op_internal\u001b[1;34m(self, op_type, inputs, dtypes, input_types, name, attrs, op_def, compute_device)\u001b[0m\n\u001b[0;32m   3424\u001b[0m           \u001b[0minput_types\u001b[0m\u001b[1;33m=\u001b[0m\u001b[0minput_types\u001b[0m\u001b[1;33m,\u001b[0m\u001b[1;33m\u001b[0m\u001b[1;33m\u001b[0m\u001b[0m\n\u001b[0;32m   3425\u001b[0m           \u001b[0moriginal_op\u001b[0m\u001b[1;33m=\u001b[0m\u001b[0mself\u001b[0m\u001b[1;33m.\u001b[0m\u001b[0m_default_original_op\u001b[0m\u001b[1;33m,\u001b[0m\u001b[1;33m\u001b[0m\u001b[1;33m\u001b[0m\u001b[0m\n\u001b[1;32m-> 3426\u001b[1;33m           op_def=op_def)\n\u001b[0m\u001b[0;32m   3427\u001b[0m       \u001b[0mself\u001b[0m\u001b[1;33m.\u001b[0m\u001b[0m_create_op_helper\u001b[0m\u001b[1;33m(\u001b[0m\u001b[0mret\u001b[0m\u001b[1;33m,\u001b[0m \u001b[0mcompute_device\u001b[0m\u001b[1;33m=\u001b[0m\u001b[0mcompute_device\u001b[0m\u001b[1;33m)\u001b[0m\u001b[1;33m\u001b[0m\u001b[1;33m\u001b[0m\u001b[0m\n\u001b[0;32m   3428\u001b[0m     \u001b[1;32mreturn\u001b[0m \u001b[0mret\u001b[0m\u001b[1;33m\u001b[0m\u001b[1;33m\u001b[0m\u001b[0m\n",
      "\u001b[1;32m~\\AppData\\Local\\Continuum\\anaconda3\\envs\\tf1\\lib\\site-packages\\tensorflow_core\\python\\framework\\ops.py\u001b[0m in \u001b[0;36m__init__\u001b[1;34m(self, node_def, g, inputs, output_types, control_inputs, input_types, original_op, op_def)\u001b[0m\n\u001b[0;32m   1768\u001b[0m           op_def, inputs, node_def.attr)\n\u001b[0;32m   1769\u001b[0m       self._c_op = _create_c_op(self._graph, node_def, grouped_inputs,\n\u001b[1;32m-> 1770\u001b[1;33m                                 control_input_ops)\n\u001b[0m\u001b[0;32m   1771\u001b[0m     \u001b[1;31m# pylint: enable=protected-access\u001b[0m\u001b[1;33m\u001b[0m\u001b[1;33m\u001b[0m\u001b[1;33m\u001b[0m\u001b[0m\n\u001b[0;32m   1772\u001b[0m \u001b[1;33m\u001b[0m\u001b[0m\n",
      "\u001b[1;32m~\\AppData\\Local\\Continuum\\anaconda3\\envs\\tf1\\lib\\site-packages\\tensorflow_core\\python\\framework\\ops.py\u001b[0m in \u001b[0;36m_create_c_op\u001b[1;34m(graph, node_def, inputs, control_inputs)\u001b[0m\n\u001b[0;32m   1608\u001b[0m   \u001b[1;32mexcept\u001b[0m \u001b[0merrors\u001b[0m\u001b[1;33m.\u001b[0m\u001b[0mInvalidArgumentError\u001b[0m \u001b[1;32mas\u001b[0m \u001b[0me\u001b[0m\u001b[1;33m:\u001b[0m\u001b[1;33m\u001b[0m\u001b[1;33m\u001b[0m\u001b[0m\n\u001b[0;32m   1609\u001b[0m     \u001b[1;31m# Convert to ValueError for backwards compatibility.\u001b[0m\u001b[1;33m\u001b[0m\u001b[1;33m\u001b[0m\u001b[1;33m\u001b[0m\u001b[0m\n\u001b[1;32m-> 1610\u001b[1;33m     \u001b[1;32mraise\u001b[0m \u001b[0mValueError\u001b[0m\u001b[1;33m(\u001b[0m\u001b[0mstr\u001b[0m\u001b[1;33m(\u001b[0m\u001b[0me\u001b[0m\u001b[1;33m)\u001b[0m\u001b[1;33m)\u001b[0m\u001b[1;33m\u001b[0m\u001b[1;33m\u001b[0m\u001b[0m\n\u001b[0m\u001b[0;32m   1611\u001b[0m \u001b[1;33m\u001b[0m\u001b[0m\n\u001b[0;32m   1612\u001b[0m   \u001b[1;32mreturn\u001b[0m \u001b[0mc_op\u001b[0m\u001b[1;33m\u001b[0m\u001b[1;33m\u001b[0m\u001b[0m\n",
      "\u001b[1;31mValueError\u001b[0m: Dimensions must be equal, but are 1 and 5 for 'MatMul_2' (op: 'MatMul') with input shapes: [3,1], [5,3]."
     ]
    }
   ],
   "source": [
    "# 단순하게 처리하는 경우\n",
    "X1 = tf.placeholder(tf.float32, shape=[None])\n",
    "X2 = tf.placeholder(tf.float32, shape=[None])\n",
    "X3 = tf.placeholder(tf.float32, shape=[None])\n",
    "y = tf.placeholder(tf.float32, shape=[None])\n",
    "\n",
    "W1 = tf.Variable(tf.random_normal([1]))\n",
    "W2 = tf.Variable(tf.random_normal([1]))\n",
    "W3 = tf.Variable(tf.random_normal([1]))\n",
    "b = tf.Variable(tf.random_normal([1]))\n",
    "\n",
    "# 가설 설정\n",
    "hypothesis = W1*X1 + W2*X2 + W3*X3 + b\n",
    "\n",
    "# 비용 함수\n",
    "cost = tf.reduce_mean(tf.square(hypothesis-y))\n",
    "\n",
    "# 최소비용 계산\n",
    "train = tf.train.GradientDescentOptimizer(learning_rate=1e-5).minimize(cost)\n",
    "\n",
    "########################### 텐서플로우 그래프 완성 ###########################\n",
    "\n",
    "with tf.Session() as sess:\n",
    "    sess.run(tf.global_variables_initializer())\n",
    "    for step in range(2001):\n",
    "        _, hy, co = sess.run([train, hypothesis, cost], feed_dict={X1:x1_data, X2:x2_data, X3:x3_data, y:y_data})\n",
    "        if step % 100 == 0:\n",
    "            print(\"step : {} / co : {} / hy : {}\".format(step, co, hy))\n",
    "            ## hy : [nan nan nan nan nan] / co : nan 러닝레이트가 너무 커서 범위를 벗어났다는 뜻\n",
    "            \n",
    "            ## hypothesis 결과값이 아래로 갈 수록 실제 결과갑에 근사값으로 바껴가네욤 호옹이"
   ]
  },
  {
   "cell_type": "code",
   "execution_count": 95,
   "metadata": {},
   "outputs": [
    {
     "name": "stdout",
     "output_type": "stream",
     "text": [
      "step : 0 / co : 98256.734375 / hy : [[-123.934204]\n",
      " [-151.44714 ]\n",
      " [-147.95238 ]\n",
      " [-162.3422  ]\n",
      " [-114.87619 ]]\n",
      "step : 100 / co : 2.89465594291687 / hy : [[154.1288 ]\n",
      " [182.88733]\n",
      " [181.40877]\n",
      " [196.33214]\n",
      " [140.16066]]\n",
      "step : 200 / co : 2.7511019706726074 / hy : [[154.06505]\n",
      " [182.93094]\n",
      " [181.38913]\n",
      " [196.31885]\n",
      " [140.2171 ]]\n",
      "step : 300 / co : 2.615109920501709 / hy : [[154.003  ]\n",
      " [182.97337]\n",
      " [181.36998]\n",
      " [196.30592]\n",
      " [140.27203]]\n",
      "step : 400 / co : 2.486309289932251 / hy : [[153.94263]\n",
      " [183.0147 ]\n",
      " [181.35138]\n",
      " [196.2934 ]\n",
      " [140.32549]]\n",
      "step : 500 / co : 2.3642525672912598 / hy : [[153.88382]\n",
      " [183.05492]\n",
      " [181.33322]\n",
      " [196.28117]\n",
      " [140.37747]]\n",
      "step : 600 / co : 2.248649835586548 / hy : [[153.82658]\n",
      " [183.09404]\n",
      " [181.31557]\n",
      " [196.2693 ]\n",
      " [140.42809]]\n",
      "step : 700 / co : 2.1391494274139404 / hy : [[153.77087]\n",
      " [183.13214]\n",
      " [181.29837]\n",
      " [196.2578 ]\n",
      " [140.4773 ]]\n",
      "step : 800 / co : 2.0353896617889404 / hy : [[153.71663]\n",
      " [183.16924]\n",
      " [181.28165]\n",
      " [196.24658]\n",
      " [140.5252 ]]\n",
      "step : 900 / co : 1.9371038675308228 / hy : [[153.66383]\n",
      " [183.20534]\n",
      " [181.26535]\n",
      " [196.23572]\n",
      " [140.57182]]\n",
      "step : 1000 / co : 1.844010591506958 / hy : [[153.61246]\n",
      " [183.24048]\n",
      " [181.24948]\n",
      " [196.22517]\n",
      " [140.61717]]\n",
      "step : 1100 / co : 1.7558043003082275 / hy : [[153.56242]\n",
      " [183.27467]\n",
      " [181.23402]\n",
      " [196.21487]\n",
      " [140.6613 ]]\n",
      "step : 1200 / co : 1.6722385883331299 / hy : [[153.51372]\n",
      " [183.30798]\n",
      " [181.219  ]\n",
      " [196.20491]\n",
      " [140.70424]]\n",
      "step : 1300 / co : 1.5930957794189453 / hy : [[153.46632]\n",
      " [183.34038]\n",
      " [181.20433]\n",
      " [196.1952 ]\n",
      " [140.746  ]]\n",
      "step : 1400 / co : 1.5181025266647339 / hy : [[153.42017]\n",
      " [183.37192]\n",
      " [181.19006]\n",
      " [196.1858 ]\n",
      " [140.78665]]\n",
      "step : 1500 / co : 1.4470793008804321 / hy : [[153.37523]\n",
      " [183.40262]\n",
      " [181.17621]\n",
      " [196.17667]\n",
      " [140.82619]]\n",
      "step : 1600 / co : 1.379758596420288 / hy : [[153.3315 ]\n",
      " [183.43253]\n",
      " [181.16267]\n",
      " [196.16777]\n",
      " [140.86467]]\n",
      "step : 1700 / co : 1.315994381904602 / hy : [[153.28893]\n",
      " [183.46162]\n",
      " [181.1495 ]\n",
      " [196.15915]\n",
      " [140.90211]]\n",
      "step : 1800 / co : 1.2555996179580688 / hy : [[153.24748]\n",
      " [183.48996]\n",
      " [181.13672]\n",
      " [196.15077]\n",
      " [140.93854]]\n",
      "step : 1900 / co : 1.198368787765503 / hy : [[153.20712]\n",
      " [183.51753]\n",
      " [181.12422]\n",
      " [196.14262]\n",
      " [140.97395]]\n",
      "step : 2000 / co : 1.1441560983657837 / hy : [[153.16785]\n",
      " [183.54436]\n",
      " [181.11206]\n",
      " [196.1347 ]\n",
      " [141.00844]]\n"
     ]
    }
   ],
   "source": [
    "# Matrix로 처리하는 경우\n",
    "x_data = [[73., 80., 75.], [93., 88., 93.],\n",
    "         [89., 91., 90.], [96., 98., 100.], [73., 66., 70.]]\n",
    "y_data = [[152.], [185.], [180.], [196.], [142.]]\n",
    "\n",
    "X = tf.placeholder(tf.float32, shape=[None, 3]) # 5개로 들어와서 3개로 나감\n",
    "Y = tf.placeholder(tf.float32, shape=[None, 1])\n",
    "\n",
    "W = tf.Variable(tf.random_normal([3, 1])) # 3개로 들어와서 1개로 나감\n",
    "b = tf.Variable(tf.random_normal([1]))\n",
    "\n",
    "# 가설 설정\n",
    "hypothesis = tf.matmul(X, W) + b\n",
    "\n",
    "# 비용 함수\n",
    "cost = tf.reduce_mean(tf.square(hypothesis-y))\n",
    "\n",
    "# 최소비용 계산\n",
    "train = tf.train.GradientDescentOptimizer(learning_rate=1e-5).minimize(cost)\n",
    "\n",
    "########################### 텐서플로우 그래프 완성 ###########################\n",
    "\n",
    "with tf.Session() as sess:\n",
    "    sess.run(tf.global_variables_initializer())\n",
    "    for step in range(2001):\n",
    "        _, hy, co = sess.run([train, hypothesis, cost], feed_dict={X:x_data, y:y_data})\n",
    "        if step % 100 == 0:\n",
    "            print(\"step : {} / co : {} / hy : {}\".format(step, co, hy))\n",
    "            ## hy : [nan nan nan nan nan] / co : nan 러닝레이트가 너무 커서 범위를 벗어났다는 뜻\n",
    "            \n",
    "            ## hypothesis 결과값이 아래로 갈 수록 실제 결과갑에 근사값으로 바껴가네욤 호옹이"
   ]
  },
  {
   "cell_type": "markdown",
   "metadata": {},
   "source": [
    "<font color=red>\n",
    "    \n",
    "### DASK\n",
    "</font>\n",
    "\n",
    "    - 가상 데이터프레임\n",
    "    - 병렬처리용 작업스케쥴러"
   ]
  },
  {
   "cell_type": "code",
   "execution_count": 121,
   "metadata": {},
   "outputs": [
    {
     "name": "stdout",
     "output_type": "stream",
     "text": [
      "Overwriting data/sample1.csv\n"
     ]
    }
   ],
   "source": [
    "%%writefile \"data/sample1.csv\"\n",
    "c1, c2, c3\n",
    "1, 1.11, one\n",
    "2, 2.22, two\n",
    "3, 3.33, three"
   ]
  },
  {
   "cell_type": "code",
   "execution_count": 100,
   "metadata": {},
   "outputs": [
    {
     "data": {
      "text/plain": [
       "2.22"
      ]
     },
     "execution_count": 100,
     "metadata": {},
     "output_type": "execute_result"
    }
   ],
   "source": [
    "df1 = pd.read_csv(\"data/sample1.csv\")\n",
    "df1\n",
    "df1[\" c2\"].mean()"
   ]
  },
  {
   "cell_type": "code",
   "execution_count": 107,
   "metadata": {},
   "outputs": [
    {
     "name": "stderr",
     "output_type": "stream",
     "text": [
      "C:\\Users\\acorn\\AppData\\Local\\Continuum\\anaconda3\\envs\\tf1\\lib\\site-packages\\dask\\dataframe\\core.py:5916: UserWarning: Insufficient elements for `head`. 5 elements requested, only 3 elements available. Try passing larger `npartitions` to `head`.\n",
      "  warnings.warn(msg.format(n, len(r)))\n"
     ]
    },
    {
     "data": {
      "text/plain": [
       "2.22"
      ]
     },
     "execution_count": 107,
     "metadata": {},
     "output_type": "execute_result"
    }
   ],
   "source": [
    "import dask.dataframe as dd\n",
    "\n",
    "df2 = dd.read_csv(\"data/sample1.csv\")\n",
    "df2\n",
    "\"\"\"↓↓↓실제 데이터를 갖고오지 않고 틀(데이터형식 포함)만 갖고왔어ㅇㅅㅇ\n",
    "Dask DataFrame Structure:\n",
    "                  c1       c2      c3\n",
    "npartitions=1                        \n",
    "               int64  float64  object\n",
    "                 ...      ...     ...\n",
    "Dask Name: from-delayed, 3 tasks\n",
    "\"\"\"\n",
    "df2.head() # 필요한 데이터만 메모리에 올려놔줌. 그래서 head쓰면 데이터 읽어옴\n",
    "\n",
    "df2[\" c2\"].mean() # → dd.Scalar<series-..., dtype=float64> 걍 객체로 나옴\n",
    "\n",
    "df2[\" c2\"].mean().compute() # → 2.22"
   ]
  },
  {
   "cell_type": "code",
   "execution_count": 115,
   "metadata": {},
   "outputs": [
    {
     "name": "stdout",
     "output_type": "stream",
     "text": [
      "[########################################] | 100% Completed |  0.7s\n",
      "[########################################] | 100% Completed | 30.8s\n"
     ]
    },
    {
     "data": {
      "text/plain": [
       "ID                            6954279\n",
       "Case Number                   6954275\n",
       "Date                          6954279\n",
       "Block                         6954279\n",
       "IUCR                          6954279\n",
       "Primary Type                  6954279\n",
       "Description                   6954279\n",
       "Location Description          6948835\n",
       "Arrest                        6954279\n",
       "Domestic                      6954279\n",
       "Beat                          6954279\n",
       "District                      6954232\n",
       "Ward                          6339453\n",
       "Community Area                6340784\n",
       "FBI Code                      6954279\n",
       "X Coordinate                  6888372\n",
       "Y Coordinate                  6888372\n",
       "Year                          6954279\n",
       "Updated On                    6954279\n",
       "Latitude                      6888372\n",
       "Longitude                     6888372\n",
       "Location                      6888372\n",
       "Historical Wards 2003-2015    6868367\n",
       "Zip Codes                     6888372\n",
       "Community Areas               6871115\n",
       "Census Tracts                 6873256\n",
       "Wards                         6871227\n",
       "Boundaries - ZIP Codes        6871162\n",
       "Police Districts              6872194\n",
       "Police Beats                  6872217\n",
       "dtype: int64"
      ]
     },
     "execution_count": 115,
     "metadata": {},
     "output_type": "execute_result"
    }
   ],
   "source": [
    "### 병렬처리\n",
    "\n",
    "df3 = dd.read_csv(\"data/crime.csv\", dtype=str, error_bad_lines=False)\n",
    "\n",
    "df3.tail()\n",
    "df3.count().compute() # 데이터 전체 갯수"
   ]
  },
  {
   "cell_type": "code",
   "execution_count": 110,
   "metadata": {},
   "outputs": [],
   "source": [
    "from dask.diagnostics import ProgressBar\n",
    "pbar = ProgressBar()\n",
    "pbar.register()"
   ]
  },
  {
   "cell_type": "code",
   "execution_count": 112,
   "metadata": {
    "scrolled": true
   },
   "outputs": [
    {
     "name": "stdout",
     "output_type": "stream",
     "text": [
      "[########################################] | 100% Completed |  3.2s\n",
      "Wall time: 3.25 s\n"
     ]
    },
    {
     "data": {
      "text/plain": [
       "ID                            482913\n",
       "Case Number                   482913\n",
       "Date                          482913\n",
       "Block                         482913\n",
       "IUCR                          482913\n",
       "Primary Type                  482913\n",
       "Description                   482913\n",
       "Location Description          481264\n",
       "Arrest                        482913\n",
       "Domestic                      482913\n",
       "Beat                          482913\n",
       "District                      482912\n",
       "Ward                          482902\n",
       "Community Area                482911\n",
       "FBI Code                      482913\n",
       "X Coordinate                  476932\n",
       "Y Coordinate                  476932\n",
       "Year                          482913\n",
       "Updated On                    482913\n",
       "Latitude                      476932\n",
       "Longitude                     476932\n",
       "Location                      476932\n",
       "Historical Wards 2003-2015    475376\n",
       "Zip Codes                     476932\n",
       "Community Areas               475577\n",
       "Census Tracts                 475795\n",
       "Wards                         475580\n",
       "Boundaries - ZIP Codes        475581\n",
       "Police Districts              475630\n",
       "Police Beats                  475630\n",
       "dtype: int64"
      ]
     },
     "execution_count": 112,
     "metadata": {},
     "output_type": "execute_result"
    }
   ],
   "source": [
    "%%time\n",
    "df3.count().compute()"
   ]
  },
  {
   "cell_type": "code",
   "execution_count": 114,
   "metadata": {
    "scrolled": true
   },
   "outputs": [
    {
     "name": "stdout",
     "output_type": "stream",
     "text": [
      "[########################################] | 100% Completed |  2.7s\n",
      "Wall time: 2.68 s\n"
     ]
    },
    {
     "data": {
      "text/plain": [
       "ID                            482913\n",
       "Case Number                   482913\n",
       "Date                          482913\n",
       "Block                         482913\n",
       "IUCR                          482913\n",
       "Primary Type                  482913\n",
       "Description                   482913\n",
       "Location Description          481264\n",
       "Arrest                        482913\n",
       "Domestic                      482913\n",
       "Beat                          482913\n",
       "District                      482912\n",
       "Ward                          482902\n",
       "Community Area                482911\n",
       "FBI Code                      482913\n",
       "X Coordinate                  476932\n",
       "Y Coordinate                  476932\n",
       "Year                          482913\n",
       "Updated On                    482913\n",
       "Latitude                      476932\n",
       "Longitude                     476932\n",
       "Location                      476932\n",
       "Historical Wards 2003-2015    475376\n",
       "Zip Codes                     476932\n",
       "Community Areas               475577\n",
       "Census Tracts                 475795\n",
       "Wards                         475580\n",
       "Boundaries - ZIP Codes        475581\n",
       "Police Districts              475630\n",
       "Police Beats                  475630\n",
       "dtype: int64"
      ]
     },
     "execution_count": 114,
     "metadata": {},
     "output_type": "execute_result"
    }
   ],
   "source": [
    "%%time\n",
    "df3.count().compute(scheduler=\"processes\", num_workers=4) # 프로세스를 4개 쓰겠다"
   ]
  },
  {
   "cell_type": "code",
   "execution_count": 116,
   "metadata": {},
   "outputs": [
    {
     "name": "stdout",
     "output_type": "stream",
     "text": [
      "[########################################] | 100% Completed |  0.1s\n"
     ]
    },
    {
     "data": {
      "text/plain": [
       "0    4\n",
       "1    5\n",
       "2    6\n",
       "Name: c1, dtype: int64"
      ]
     },
     "execution_count": 116,
     "metadata": {},
     "output_type": "execute_result"
    }
   ],
   "source": [
    "(df2[\"c1\"] + 3).compute()"
   ]
  },
  {
   "cell_type": "code",
   "execution_count": 117,
   "metadata": {
    "scrolled": true
   },
   "outputs": [
    {
     "name": "stdout",
     "output_type": "stream",
     "text": [
      "[########################################] | 100% Completed |  0.1s\n"
     ]
    },
    {
     "name": "stderr",
     "output_type": "stream",
     "text": [
      "C:\\Users\\acorn\\AppData\\Local\\Continuum\\anaconda3\\envs\\tf1\\lib\\site-packages\\dask\\dataframe\\core.py:5916: UserWarning: Insufficient elements for `head`. 5 elements requested, only 3 elements available. Try passing larger `npartitions` to `head`.\n",
      "  warnings.warn(msg.format(n, len(r)))\n"
     ]
    },
    {
     "data": {
      "text/html": [
       "<div>\n",
       "<style scoped>\n",
       "    .dataframe tbody tr th:only-of-type {\n",
       "        vertical-align: middle;\n",
       "    }\n",
       "\n",
       "    .dataframe tbody tr th {\n",
       "        vertical-align: top;\n",
       "    }\n",
       "\n",
       "    .dataframe thead th {\n",
       "        text-align: right;\n",
       "    }\n",
       "</style>\n",
       "<table border=\"1\" class=\"dataframe\">\n",
       "  <thead>\n",
       "    <tr style=\"text-align: right;\">\n",
       "      <th></th>\n",
       "      <th>c1</th>\n",
       "      <th>c2</th>\n",
       "      <th>c3</th>\n",
       "    </tr>\n",
       "  </thead>\n",
       "  <tbody>\n",
       "    <tr>\n",
       "      <th>0</th>\n",
       "      <td>-2</td>\n",
       "      <td>1.11</td>\n",
       "      <td>one</td>\n",
       "    </tr>\n",
       "    <tr>\n",
       "      <th>1</th>\n",
       "      <td>-1</td>\n",
       "      <td>2.22</td>\n",
       "      <td>two</td>\n",
       "    </tr>\n",
       "    <tr>\n",
       "      <th>2</th>\n",
       "      <td>0</td>\n",
       "      <td>3.33</td>\n",
       "      <td>three</td>\n",
       "    </tr>\n",
       "  </tbody>\n",
       "</table>\n",
       "</div>"
      ],
      "text/plain": [
       "   c1    c2      c3\n",
       "0  -2  1.11     one\n",
       "1  -1  2.22     two\n",
       "2   0  3.33   three"
      ]
     },
     "execution_count": 117,
     "metadata": {},
     "output_type": "execute_result"
    }
   ],
   "source": [
    "# 새로운 값 할당\n",
    "\n",
    "df2 = df2.assign(c1=df2[\"c1\"]-3)\n",
    "df2.head()"
   ]
  },
  {
   "cell_type": "code",
   "execution_count": 119,
   "metadata": {},
   "outputs": [
    {
     "name": "stdout",
     "output_type": "stream",
     "text": [
      "[########################################] | 100% Completed |  0.1s\n"
     ]
    },
    {
     "name": "stderr",
     "output_type": "stream",
     "text": [
      "C:\\Users\\acorn\\AppData\\Local\\Continuum\\anaconda3\\envs\\tf1\\lib\\site-packages\\dask\\dataframe\\core.py:5916: UserWarning: Insufficient elements for `head`. 5 elements requested, only 3 elements available. Try passing larger `npartitions` to `head`.\n",
      "  warnings.warn(msg.format(n, len(r)))\n"
     ]
    },
    {
     "data": {
      "text/html": [
       "<div>\n",
       "<style scoped>\n",
       "    .dataframe tbody tr th:only-of-type {\n",
       "        vertical-align: middle;\n",
       "    }\n",
       "\n",
       "    .dataframe tbody tr th {\n",
       "        vertical-align: top;\n",
       "    }\n",
       "\n",
       "    .dataframe thead th {\n",
       "        text-align: right;\n",
       "    }\n",
       "</style>\n",
       "<table border=\"1\" class=\"dataframe\">\n",
       "  <thead>\n",
       "    <tr style=\"text-align: right;\">\n",
       "      <th></th>\n",
       "      <th>c1</th>\n",
       "      <th>c2</th>\n",
       "      <th>c3</th>\n",
       "      <th>title</th>\n",
       "    </tr>\n",
       "  </thead>\n",
       "  <tbody>\n",
       "    <tr>\n",
       "      <th>0</th>\n",
       "      <td>-2</td>\n",
       "      <td>1.11</td>\n",
       "      <td>one</td>\n",
       "      <td>-2%</td>\n",
       "    </tr>\n",
       "    <tr>\n",
       "      <th>1</th>\n",
       "      <td>-1</td>\n",
       "      <td>2.22</td>\n",
       "      <td>two</td>\n",
       "      <td>-1%</td>\n",
       "    </tr>\n",
       "    <tr>\n",
       "      <th>2</th>\n",
       "      <td>0</td>\n",
       "      <td>3.33</td>\n",
       "      <td>three</td>\n",
       "      <td>0%</td>\n",
       "    </tr>\n",
       "  </tbody>\n",
       "</table>\n",
       "</div>"
      ],
      "text/plain": [
       "   c1    c2      c3 title\n",
       "0  -2  1.11     one   -2%\n",
       "1  -1  2.22     two   -1%\n",
       "2   0  3.33   three    0%"
      ]
     },
     "execution_count": 119,
     "metadata": {},
     "output_type": "execute_result"
    }
   ],
   "source": [
    "# 새로운 컬럼 추가\n",
    "df2 = df2.assign(title=df2[\"c1\"].astype(str) + \"%\")\n",
    "df2.head()"
   ]
  },
  {
   "cell_type": "code",
   "execution_count": 122,
   "metadata": {},
   "outputs": [
    {
     "name": "stdout",
     "output_type": "stream",
     "text": [
      "Writing data/sample2.csv\n"
     ]
    }
   ],
   "source": [
    "%%writefile \"data/sample2.csv\"\n",
    "c1, c2, c3\n",
    "4, 4.11, one\n",
    "5, 5.22, two\n",
    "5, 6.33, three"
   ]
  },
  {
   "cell_type": "code",
   "execution_count": 123,
   "metadata": {},
   "outputs": [
    {
     "name": "stdout",
     "output_type": "stream",
     "text": [
      "[########################################] | 100% Completed |  0.1s\n"
     ]
    },
    {
     "data": {
      "text/plain": [
       "c1     6\n",
       " c2    6\n",
       " c3    6\n",
       "dtype: int64"
      ]
     },
     "execution_count": 123,
     "metadata": {},
     "output_type": "execute_result"
    }
   ],
   "source": [
    "# 복수데이터\n",
    "\n",
    "df4 = dd.read_csv(\"data/sample*.csv\") ## samole1 + samole2  둘 다 가져온거\n",
    "df4.count().compute()"
   ]
  },
  {
   "cell_type": "markdown",
   "metadata": {},
   "source": [
    "<font color=red>\n",
    "    \n",
    "### Queue Runner\n",
    "</font>\n",
    "\n",
    "    - 탠서플로우에서 제공하는 패키지\n",
    "    - 어떤 파일이 있는지 목록들만 저장 (DASK가 파일을 읽어들이는 것 처럼)"
   ]
  },
  {
   "cell_type": "code",
   "execution_count": 135,
   "metadata": {},
   "outputs": [],
   "source": [
    "filename_queue = tf.train.string_input_producer([\"data/data-01-test-score1.csv\"])\n",
    "\n",
    "key, value = tf.TextLineReader().read(filename_queue)\n",
    "# value : 실제 데이터\n",
    "\n",
    "# 디코딩\n",
    "xy = tf.decode_csv(value, record_defaults=[[0.], [0.], [0.], [0.]])\n"
   ]
  },
  {
   "cell_type": "markdown",
   "metadata": {},
   "source": [
    "<font color=red>\n",
    "    \n",
    "### tf.train.batch\n",
    "</font>\n",
    "\n",
    "    - 모아뒀다가 한 번에 처리하는.. 일괄처리...?\n",
    "    - 뭐에 기준이 된다고 했는데 못들었다..\n",
    "    \n",
    "    (1) 처리 방법\n",
    "        1) Batch\n",
    "            - 전체 데이터를 모아서 한꺼번에 사용 (1000개의 데이터 → 1번 처리)\n",
    "        2) Stockastic\n",
    "            - 한 개의 데이터 낱개를 사용 (1000개의 데이터 → 1000번 처리)\n",
    "        3) Mini-Batch\n",
    "            - 가장 많이 사용됨\n",
    "            - Batch와 Stockastic의 절충안\n",
    "            - 적당한 갯수를 지정하여 처리\n",
    "            ex. 200개의 데이터 / 5개씩 처리 → 40번 처리\n",
    "    \n",
    "    - epoch? : 반복횟수?"
   ]
  },
  {
   "cell_type": "code",
   "execution_count": 139,
   "metadata": {},
   "outputs": [
    {
     "name": "stdout",
     "output_type": "stream",
     "text": [
      "당신의 성적은  [[196.24667]]\n",
      "다른 사람의 성적은  [[178.7296 ]\n",
      " [173.40656]]\n"
     ]
    }
   ],
   "source": [
    "train_x_batch, train_y_batch = tf.train.batch([xy[0:-1], xy[-1:]], batch_size=10)\n",
    "# xv[0:-1] : 첫번째 데이터부터 마지막까지\n",
    "# xy[-1:] : 마지막데이터부터 나머지(= 걍 마지막인거 ㅇㅇ)\n",
    "# batch_size=10 : Mini-Batch, 처리할 데이터 갯수 지정\n",
    "\n",
    "### 훈련을 시켜 봅시다 ###\n",
    "# X = tf.placeholder(tf.float32, shape=[25, 3]) # 25개 데이터가 들어와서 3개의 특성으로 나가니까\n",
    "X = tf.placeholder(tf.float32, shape=[None, 3]) # 앞으로 어떤 데이터가 몇개 들어올지 모를거니까 None\n",
    "y = tf.placeholder(tf.float32, shape=[None, 1])\n",
    "\n",
    "W = tf.Variable(tf.random_normal([3, 1])) # X의 3개를 받고 나가는거 1개ㅑ\n",
    "b = tf.Variable(tf.random_normal([1]))\n",
    "\n",
    "### 가설 준비 ###\n",
    "hypothesis = tf.matmul(X, W) + b\n",
    "### 비용 함수 ###\n",
    "cost = tf.reduce_mean(tf.square(hypothesis-y))\n",
    "### 최소비용 계산 ###\n",
    "train = tf.train.GradientDescentOptimizer(learning_rate=1e-5).minimize(cost)\n",
    "\n",
    "########################### 텐서플로우 그래프 완성 ###########################\n",
    "\n",
    "with tf.Session() as sess:\n",
    "    sess.run(tf.global_variables_initializer())\n",
    "    \n",
    "    ###### 설계만 되어있고 아직 데이터를 읽어 온 상태가 아니니까 데이터를 처리해야하는데\n",
    "    ###### queue runner가 데이터를 읽어오는 코디네이터\n",
    "    coord = tf.train.Coordinator()\n",
    "    # 이 코디네이터한테 일을 시키는 것이다.\n",
    "    threads = tf.train.start_queue_runners(sess = sess, coord = coord)\n",
    "    # sess : session이 누군지 알려주고\n",
    "    # coord : coordinater가 누군지 알려주면 된다.\n",
    "    \n",
    "    for step in range(2001) :\n",
    "        x_batch, y_batch = sess.run([train_x_batch, train_y_batch])\n",
    "        sess.run(train, feed_dict={X:x_batch, y:y_batch})\n",
    "    \n",
    "    coord.request_stop()\n",
    "    coord.join(threads)\n",
    "    # Thread : 프로세스 안에서 하나하나 시행되는 작업 단위\n",
    "    # Single Thread : 하나의 작업단위씩만 시행 가능 (ex. 음악들으면서 게임못함)\n",
    "    # Mult? Thread : 한 번에 여러 개의 작업단위를 시행\n",
    "    # join : 아직 시행이 끝나지 않은 Thred를 기다렸다가 전체 thred가 모두 동시에 끝나도록 만드는 Method\n",
    "    \n",
    "    print(\"당신의 성적은 \", sess.run(hypothesis, feed_dict={X:[[100, 70, 101]]}))\n",
    "    print(\"다른 사람의 성적은 \", sess.run(hypothesis, feed_dict={X:[[60, 70, 110], [90, 100, 80]]}))\n",
    "    \n"
   ]
  },
  {
   "cell_type": "markdown",
   "metadata": {},
   "source": [
    "---\n",
    "<font color=red>\n",
    "    \n",
    "## 로지스틱 회귀 모델\n",
    "</font>\n",
    "\n",
    "    - 가설공식(시그모이드) : 1/(1+e^-(W^T*X))\n",
    "    - 비용함수 공식 : -(ylog(H(x)) + (1 - y)log(1 - H(x)))???"
   ]
  },
  {
   "cell_type": "code",
   "execution_count": 146,
   "metadata": {},
   "outputs": [
    {
     "name": "stdout",
     "output_type": "stream",
     "text": [
      "\n",
      "Hypothesis:  [[0.02729675]\n",
      " [0.15389991]\n",
      " [0.2879425 ]\n",
      " [0.78922427]\n",
      " [0.9444096 ]\n",
      " [0.98180354]] \n",
      "Correct (Y):  [[0.]\n",
      " [0.]\n",
      " [0.]\n",
      " [1.]\n",
      " [1.]\n",
      " [1.]] \n",
      "Accuracy:  1.0\n"
     ]
    }
   ],
   "source": [
    "### 데이터 준비 ###\n",
    "x_data = [[1, 2], [2, 3], [3, 1], [4, 3], [5, 3], [6, 2]]\n",
    "y_data = [[0], [0], [0], [1], [1], [1]]\n",
    "\n",
    "X = tf.placeholder(tf.float32, shape=[None, 2])\n",
    "# X = tf.placeholder(tf.float32, shape=[6, 2])\n",
    "y = tf.placeholder(tf.float32, shape=[None, 1])\n",
    "\n",
    "W = tf.Variable(tf.random_normal([2, 1]))\n",
    "b = tf.Variable(tf.random_normal([1]))\n",
    "\n",
    "### 가설 준비(원래는 시그모이드 공식을 쓰면 되는데 함수있으니까 그거 쓰긔) ###\n",
    "hypothesis = tf.sigmoid(tf.matmul(X,W)+b)\n",
    "# 선형모델 공식을 시그모이드 함수로 감싸주면 로지스틱 회귀모델의 가설공식~\n",
    "\n",
    "### 비용 함수(여기도 달라야즤 / 이진분류(0&1)니까~ ###\n",
    "cost = -tf.reduce_mean(y*tf.log(hypothesis) + (1-y)*tf.log(1-hypothesis))\n",
    "\n",
    "### 최소비용 계산 ###\n",
    "train = tf.train.GradientDescentOptimizer(learning_rate=0.01).minimize(cost)\n",
    "\n",
    "########################### 텐서플로우 그래프 완성 ###########################\n",
    "\n",
    "### 그래프 실행 ###\n",
    "sess =  tf.Session()\n",
    "sess.run(tf.global_variables_initializer())\n",
    "for step in range(10001):\n",
    "    sess.run(train, feed_dict={X:x_data, y:y_data}) ### 여기까지가 훈련\n",
    "\n",
    "### 정확도 검증 ###\n",
    "# tf.cast() : 불린값을 숫자로 바꿔줌\n",
    "# tf.cast(True, dtype=tf.float32) → <tf.Tensor 'Cast:0' shape=() dtype=float32>\n",
    "\n",
    "# 예측\n",
    "pred = tf.cast(hypothesis > 0.5, dtype=tf.float32) \n",
    "# → 예측값이 0.5를 기준으로 위면 1, 아니면 0으로 분류\n",
    "\n",
    "# 검증\n",
    "accuracy = tf.reduce_mean(tf.cast(tf.equal(pred, y), dtype=tf.float32))\n",
    "\n",
    "# 검정보고서? 출력?\n",
    "h, p, a = sess.run([hypothesis, pred, accuracy], feed_dict={X:x_data, y:y_data})\n",
    "print(\"\\nHypothesis: \", h, \"\\nPredict: \", p, \"\\nAccuracy: \", a)"
   ]
  },
  {
   "cell_type": "markdown",
   "metadata": {},
   "source": [
    "---\n",
    "<font color=red>\n",
    "    \n",
    "## Softmax Classifier\n",
    "</font>\n",
    "\n",
    "    - 소프트맥스\n",
    "        - 각각의 시그모이드 결과값을 하나로 묶어서 하나의 확률로 확인할 수 있게 해줌\n",
    "        - One hot : 하나에 스포트라이트를 비춰준다규"
   ]
  },
  {
   "cell_type": "code",
   "execution_count": 11,
   "metadata": {},
   "outputs": [
    {
     "name": "stdout",
     "output_type": "stream",
     "text": [
      "[[0.27874434 0.7196618  0.00159392]]\n",
      "[1]\n"
     ]
    }
   ],
   "source": [
    "### 데이터 준비 ###\n",
    "x_data = [[1, 2, 1, 1], [2, 1, 3, 2], [3, 1, 3, 4], [4, 1, 5, 5], [1, 7, 5, 5], \n",
    "                                                        [1, 2, 5, 6], [1, 6, 6, 6], [1, 7, 7, 7]]\n",
    "y_data = [[0, 0, 1], [0, 0, 1], [0, 0, 1], [0, 1, 0], [0, 1, 0], [0, 1, 0], [1, 0, 0], [1, 0, 0]]\n",
    "\n",
    "X = tf.placeholder(tf.float32, shape=[None, 4])\n",
    "y = tf.placeholder(tf.float32, shape=[None, 3])\n",
    "\n",
    "W1 = tf.Variable(tf.random_normal([4, 3]))\n",
    "b1 = tf.Variable(tf.random_normal([3]))\n",
    "\n",
    "### 가설 준비(softmax 사용합니당) ###\n",
    "hypothesis = tf.nn.softmax(tf.matmul(X,W)+b)\n",
    "\n",
    "### 비용 함수 ###\n",
    "cost = tf.reduce_mean(-tf.reduce_sum(y * tf.log(hypothesis), axis=1))\n",
    "\n",
    "### 최소비용 계산 ###\n",
    "train = tf.train.GradientDescentOptimizer(learning_rate=0.01).minimize(cost)\n",
    "\n",
    "########################### 텐서플로우 그래프 완성 ###########################\n",
    "\n",
    "with tf.Session() as sess:\n",
    "    sess.run(tf.global_variables_initializer())\n",
    "    \n",
    "    for step in range(2001): # 훈련시키기\n",
    "        sess.run(train, feed_dict={X:x_data, y:y_data})\n",
    "    # 훈련종료\n",
    "    \n",
    "    result = sess.run(hypothesis, feed_dict={X:[[1, 11, 7, 9]]}) # 예측\n",
    "    print(result)\n",
    "    print(sess.run(tf.arg_max(result, 1))) # 제일 큰 값의 위치인가?"
   ]
  },
  {
   "cell_type": "markdown",
   "metadata": {},
   "source": [
    "---\n",
    "<font color=red>\n",
    "    \n",
    "## Fancy Softmax\n",
    "</font>\n",
    "\n",
    "    - softmax_cross_entropy_with_logits()\n",
    "    - one_hot()\n",
    "    - reshape()"
   ]
  },
  {
   "cell_type": "code",
   "execution_count": 12,
   "metadata": {},
   "outputs": [
    {
     "name": "stdout",
     "output_type": "stream",
     "text": [
      "WARNING:tensorflow:From <ipython-input-12-9487f6b2230f>:20: softmax_cross_entropy_with_logits (from tensorflow.python.ops.nn_ops) is deprecated and will be removed in a future version.\n",
      "Instructions for updating:\n",
      "\n",
      "Future major versions of TensorFlow will allow gradients to flow\n",
      "into the labels input on backprop by default.\n",
      "\n",
      "See `tf.nn.softmax_cross_entropy_with_logits_v2`.\n",
      "\n",
      "[[3.3099853e-02 9.6688366e-01 1.6505341e-05]]\n",
      "[1]\n"
     ]
    }
   ],
   "source": [
    "##### softmax_cross_entropy_with_logits() #####\n",
    "x_data = [[1, 2, 1, 1], [2, 1, 3, 2], [3, 1, 3, 4], [4, 1, 5, 5], [1, 7, 5, 5], \n",
    "                                                        [1, 2, 5, 6], [1, 6, 6, 6], [1, 7, 7, 7]]\n",
    "y_data = [[0, 0, 1], [0, 0, 1], [0, 0, 1], [0, 1, 0], [0, 1, 0], [0, 1, 0], [1, 0, 0], [1, 0, 0]]\n",
    "\n",
    "X = tf.placeholder(tf.float32, shape=[None, 4])\n",
    "y = tf.placeholder(tf.float32, shape=[None, 3])\n",
    "\n",
    "W = tf.Variable(tf.random_normal([4, 3]))\n",
    "b = tf.Variable(tf.random_normal([3]))\n",
    "\n",
    "\n",
    "### Logit(원초적인 공식)을 따로 빼줍니당\n",
    "logit = tf.matmul(X,W)+b\n",
    "\n",
    "### 가설 준비(softmax 사용합니당) ###\n",
    "hypothesis = tf.nn.softmax(logit)\n",
    "\n",
    "### 비용 함수 ###\n",
    "cost = tf.nn.softmax_cross_entropy_with_logits(logits=logit, labels=y_data) # logits=원초적공식, labels=정답\n",
    "# = cost = tf.reduce_mean(-tf.reduce_sum(y * tf.log(hypothesis), axis=1))\n",
    "\n",
    "### 최소비용 계산 ###\n",
    "train = tf.train.GradientDescentOptimizer(learning_rate=0.01).minimize(cost)\n",
    "\n",
    "########################### 텐서플로우 그래프 완성 ###########################\n",
    "\n",
    "with tf.Session() as sess:\n",
    "    sess.run(tf.global_variables_initializer())\n",
    "    \n",
    "    for step in range(2001): # 훈련시키기\n",
    "        sess.run(train, feed_dict={X:x_data, y:y_data})\n",
    "    # 훈련종료\n",
    "    \n",
    "    result = sess.run(hypothesis, feed_dict={X:[[1, 11, 7, 9]]}) # 예측\n",
    "    print(result)\n",
    "    print(sess.run(tf.arg_max(result, 1))) # 제일 큰 값의 위치인가?"
   ]
  },
  {
   "cell_type": "code",
   "execution_count": 16,
   "metadata": {},
   "outputs": [
    {
     "data": {
      "text/plain": [
       "array([[1., 0., 0.],\n",
       "       [0., 1., 0.],\n",
       "       [0., 0., 1.],\n",
       "       [1., 0., 0.]], dtype=float32)"
      ]
     },
     "execution_count": 16,
     "metadata": {},
     "output_type": "execute_result"
    }
   ],
   "source": [
    "##### one_hot() #####\n",
    "sess = tf.Session()\n",
    "tf.one_hot([[0], [1], [2], [0]], depth=3).eval(session=sess)\n",
    "\"\"\"2차원 → 3차원\n",
    "array([[[1., 0., 0.]],\n",
    "\n",
    "       [[0., 1., 0.]],\n",
    "\n",
    "       [[0., 0., 1.]],\n",
    "\n",
    "       [[1., 0., 0.]]], dtype=float32)\n",
    "\"\"\"\n",
    "# one_hot을 쓰면 차원이 바뀌기 때문에 다른 용도로 사용할 때 차원을 다시 바꿔줘야함\n",
    "# 그래서 reshpae이 따라다니즤\n",
    "\n",
    "tf.reshape(tf.one_hot([[0], [1], [2], [0]], depth=3).eval(session=sess), shape=[-1, 3]).eval(session=sess)\n",
    "\"\"\"3차원 → 2차원\n",
    "array([[1., 0., 0.],\n",
    "       [0., 1., 0.],\n",
    "       [0., 0., 1.],\n",
    "       [1., 0., 0.]], dtype=float32)\n",
    "\"\"\""
   ]
  },
  {
   "cell_type": "markdown",
   "metadata": {},
   "source": [
    "### 사례1: 동물 분류 예측 (one_hot encoding)"
   ]
  },
  {
   "cell_type": "code",
   "execution_count": 44,
   "metadata": {
    "scrolled": true
   },
   "outputs": [
    {
     "name": "stdout",
     "output_type": "stream",
     "text": [
      "Step:    0\tLoss:4.140\tAcc:25.74%\n",
      "Step:  100\tLoss:4.140\tAcc:25.74%\n",
      "Step:  200\tLoss:4.140\tAcc:25.74%\n",
      "Step:  300\tLoss:4.140\tAcc:25.74%\n",
      "Step:  400\tLoss:4.140\tAcc:25.74%\n",
      "Step:  500\tLoss:4.140\tAcc:25.74%\n",
      "Step:  600\tLoss:4.140\tAcc:25.74%\n",
      "Step:  700\tLoss:4.140\tAcc:25.74%\n",
      "Step:  800\tLoss:4.140\tAcc:25.74%\n",
      "Step:  900\tLoss:4.140\tAcc:25.74%\n",
      "Step: 1000\tLoss:4.140\tAcc:25.74%\n",
      "Step: 1100\tLoss:4.140\tAcc:25.74%\n",
      "Step: 1200\tLoss:4.140\tAcc:25.74%\n",
      "Step: 1300\tLoss:4.140\tAcc:25.74%\n",
      "Step: 1400\tLoss:4.140\tAcc:25.74%\n",
      "Step: 1500\tLoss:4.140\tAcc:25.74%\n",
      "Step: 1600\tLoss:4.140\tAcc:25.74%\n",
      "Step: 1700\tLoss:4.140\tAcc:25.74%\n",
      "Step: 1800\tLoss:4.140\tAcc:25.74%\n",
      "Step: 1900\tLoss:4.140\tAcc:25.74%\n",
      "Step: 2000\tLoss:4.140\tAcc:25.74%\n",
      "[False] prediction:5 True Y:0\n",
      "[True] prediction:0 True Y:0\n",
      "[False] prediction:5 True Y:3\n",
      "[False] prediction:5 True Y:0\n",
      "[True] prediction:0 True Y:0\n",
      "[True] prediction:0 True Y:0\n",
      "[False] prediction:4 True Y:0\n",
      "[False] prediction:5 True Y:3\n",
      "[False] prediction:5 True Y:3\n",
      "[True] prediction:0 True Y:0\n",
      "[True] prediction:0 True Y:0\n",
      "[False] prediction:5 True Y:1\n",
      "[False] prediction:5 True Y:3\n",
      "[False] prediction:3 True Y:6\n",
      "[False] prediction:0 True Y:6\n",
      "[False] prediction:0 True Y:6\n",
      "[False] prediction:5 True Y:1\n",
      "[True] prediction:0 True Y:0\n",
      "[False] prediction:5 True Y:3\n",
      "[False] prediction:5 True Y:0\n",
      "[False] prediction:5 True Y:1\n",
      "[False] prediction:5 True Y:1\n",
      "[True] prediction:0 True Y:0\n",
      "[False] prediction:5 True Y:1\n",
      "[False] prediction:0 True Y:5\n",
      "[False] prediction:0 True Y:4\n",
      "[False] prediction:0 True Y:4\n",
      "[False] prediction:5 True Y:0\n",
      "[True] prediction:0 True Y:0\n",
      "[False] prediction:5 True Y:0\n",
      "[False] prediction:4 True Y:5\n",
      "[False] prediction:4 True Y:0\n",
      "[False] prediction:5 True Y:0\n",
      "[False] prediction:5 True Y:1\n",
      "[False] prediction:5 True Y:3\n",
      "[True] prediction:0 True Y:0\n",
      "[True] prediction:0 True Y:0\n",
      "[False] prediction:5 True Y:1\n",
      "[False] prediction:5 True Y:3\n",
      "[False] prediction:0 True Y:5\n",
      "[False] prediction:4 True Y:5\n",
      "[False] prediction:5 True Y:1\n",
      "[False] prediction:4 True Y:5\n",
      "[False] prediction:5 True Y:1\n",
      "[True] prediction:0 True Y:0\n",
      "[True] prediction:0 True Y:0\n",
      "[False] prediction:0 True Y:6\n",
      "[True] prediction:0 True Y:0\n",
      "[True] prediction:0 True Y:0\n",
      "[True] prediction:0 True Y:0\n",
      "[True] prediction:0 True Y:0\n",
      "[False] prediction:4 True Y:5\n",
      "[False] prediction:0 True Y:4\n",
      "[False] prediction:0 True Y:6\n",
      "[True] prediction:0 True Y:0\n",
      "[True] prediction:0 True Y:0\n",
      "[False] prediction:5 True Y:1\n",
      "[False] prediction:5 True Y:1\n",
      "[False] prediction:5 True Y:1\n",
      "[False] prediction:5 True Y:1\n",
      "[False] prediction:5 True Y:3\n",
      "[False] prediction:5 True Y:3\n",
      "[False] prediction:5 True Y:2\n",
      "[True] prediction:0 True Y:0\n",
      "[True] prediction:0 True Y:0\n",
      "[False] prediction:4 True Y:0\n",
      "[False] prediction:5 True Y:0\n",
      "[True] prediction:0 True Y:0\n",
      "[False] prediction:4 True Y:0\n",
      "[True] prediction:0 True Y:0\n",
      "[False] prediction:4 True Y:0\n",
      "[False] prediction:5 True Y:1\n",
      "[False] prediction:0 True Y:6\n",
      "[False] prediction:5 True Y:3\n",
      "[False] prediction:5 True Y:0\n",
      "[False] prediction:5 True Y:0\n",
      "[False] prediction:5 True Y:2\n",
      "[True] prediction:6 True Y:6\n",
      "[False] prediction:5 True Y:1\n",
      "[False] prediction:5 True Y:1\n",
      "[False] prediction:5 True Y:2\n",
      "[False] prediction:5 True Y:6\n",
      "[False] prediction:5 True Y:3\n",
      "[False] prediction:5 True Y:1\n",
      "[True] prediction:0 True Y:0\n",
      "[False] prediction:0 True Y:6\n",
      "[False] prediction:5 True Y:3\n",
      "[False] prediction:5 True Y:1\n",
      "[False] prediction:0 True Y:5\n",
      "[False] prediction:0 True Y:4\n",
      "[False] prediction:5 True Y:2\n",
      "[False] prediction:0 True Y:2\n",
      "[False] prediction:5 True Y:3\n",
      "[False] prediction:5 True Y:0\n",
      "[True] prediction:0 True Y:0\n",
      "[False] prediction:5 True Y:1\n",
      "[False] prediction:5 True Y:0\n",
      "[False] prediction:0 True Y:5\n",
      "[True] prediction:0 True Y:0\n",
      "[False] prediction:5 True Y:6\n",
      "[False] prediction:5 True Y:1\n"
     ]
    }
   ],
   "source": [
    "xy = np.loadtxt(\"data/data-04-zoo.csv\", delimiter=\",\", dtype=np.float32)\n",
    "\n",
    "x_data = xy[:, 0:-1] # (101, 16)\n",
    "y_data = xy[:, [-1]] # (101, 1)\n",
    "\n",
    "X = tf.placeholder(tf.float32, shape=[None, 16])\n",
    "y = tf.placeholder(tf.int32, shape=[None, 1])\n",
    "\n",
    "### 결과값이 0~6 총 7개이므로 결과값을 변환해주겠습니다 ###\n",
    "y_one_hot = tf.one_hot(y, 7)\n",
    "y_one_hot = tf.reshape(y_one_hot, shape=[-1, 7])\n",
    "# y_one_hot = tf.reshape(tf.one_hot(y, 7), shape=[-1, 7])\n",
    "\n",
    "W = tf.Variable(tf.random_normal([16, 7]))\n",
    "b = tf.Variable(tf.random_normal([7]))\n",
    "\n",
    "### Logit(원초적인 공식)을 따로 빼줍니당\n",
    "logit = tf.matmul(X, W) + b\n",
    "\n",
    "### 가설 준비 ###\n",
    "hypothesis = tf.nn.softmax(logit)\n",
    "\n",
    "### 비용 함수 ###\n",
    "cost_i = tf.nn.softmax_cross_entropy_with_logits(logits=logit, labels=y_one_hot)\n",
    "cost = tf.reduce_mean(cost_i)\n",
    "\n",
    "### 최소비용 계산 ###\n",
    "train = tf.train.GradientDescentOptimizer(learning_rate=0.01).minimize(cost)\n",
    "\n",
    "########################### 텐서플로우 그래프 완성 ###########################\n",
    "\n",
    "sess = tf.Session()\n",
    "sess.run(tf.global_variables_initializer())\n",
    "\n",
    "# 실수값으로 나오는 hypothesis를 0, 1으로 바꿔서 뭘 확인할거라는데 ㅇㅅㅇ\n",
    "pred = tf.arg_max(hypothesis, 1)\n",
    "correct_pred = tf.equal(pred, tf.argmax(y_one_hot, 1))\n",
    "accuracy = tf.reduce_mean(tf.cast(correct_pred, tf.float32)) # correct_predfmf 숫자로 바꾸고 (tf.cast로), 평균 내줌\n",
    "\n",
    "for step in range(2001):\n",
    "    sess.run(hypothesis, feed_dict={X:x_data, y:y_data})\n",
    "    \n",
    "    if step%100==0:\n",
    "        loss, acc = sess.run([tf.reduce_mean(cost), accuracy], feed_dict={X:x_data, y:y_data})\n",
    "        print(\"Step:{:5}\\tLoss:{:.3f}\\tAcc:{:.2%}\".format(step, loss, acc))\n",
    "\n",
    "# 예측해보자!\n",
    "pred = sess.run(pred, feed_dict={X:x_data})\n",
    "\n",
    "# 예측값이 맞는지 비교해보자!\n",
    "for p, y in zip(pred, y_data.flatten()): # pred는 1차원 y_data는 2차원이니까 flatten으로 1차원으로 변형\n",
    "    print(\"[{}] prediction:{} True Y:{}\".format(p==int(y), p, int(y)))\n"
   ]
  },
  {
   "cell_type": "markdown",
   "metadata": {},
   "source": [
    "### 사례2: MNIST 손글씨 데이터"
   ]
  },
  {
   "cell_type": "code",
   "execution_count": 46,
   "metadata": {
    "scrolled": true
   },
   "outputs": [
    {
     "name": "stdout",
     "output_type": "stream",
     "text": [
      "WARNING:tensorflow:From <ipython-input-46-9bc82d435aaa>:3: read_data_sets (from tensorflow.contrib.learn.python.learn.datasets.mnist) is deprecated and will be removed in a future version.\n",
      "Instructions for updating:\n",
      "Please use alternatives such as official/mnist/dataset.py from tensorflow/models.\n",
      "WARNING:tensorflow:From C:\\Users\\acorn\\AppData\\Local\\Continuum\\anaconda3\\envs\\tf1\\lib\\site-packages\\tensorflow_core\\contrib\\learn\\python\\learn\\datasets\\mnist.py:260: maybe_download (from tensorflow.contrib.learn.python.learn.datasets.base) is deprecated and will be removed in a future version.\n",
      "Instructions for updating:\n",
      "Please write your own downloading logic.\n",
      "WARNING:tensorflow:From C:\\Users\\acorn\\AppData\\Local\\Continuum\\anaconda3\\envs\\tf1\\lib\\site-packages\\tensorflow_core\\contrib\\learn\\python\\learn\\datasets\\base.py:252: _internal_retry.<locals>.wrap.<locals>.wrapped_fn (from tensorflow.contrib.learn.python.learn.datasets.base) is deprecated and will be removed in a future version.\n",
      "Instructions for updating:\n",
      "Please use urllib or similar directly.\n",
      "Successfully downloaded train-images-idx3-ubyte.gz 9912422 bytes.\n",
      "WARNING:tensorflow:From C:\\Users\\acorn\\AppData\\Local\\Continuum\\anaconda3\\envs\\tf1\\lib\\site-packages\\tensorflow_core\\contrib\\learn\\python\\learn\\datasets\\mnist.py:262: extract_images (from tensorflow.contrib.learn.python.learn.datasets.mnist) is deprecated and will be removed in a future version.\n",
      "Instructions for updating:\n",
      "Please use tf.data to implement this functionality.\n",
      "Extracting data/MNIST_data\\train-images-idx3-ubyte.gz\n",
      "Successfully downloaded train-labels-idx1-ubyte.gz 28881 bytes.\n",
      "WARNING:tensorflow:From C:\\Users\\acorn\\AppData\\Local\\Continuum\\anaconda3\\envs\\tf1\\lib\\site-packages\\tensorflow_core\\contrib\\learn\\python\\learn\\datasets\\mnist.py:267: extract_labels (from tensorflow.contrib.learn.python.learn.datasets.mnist) is deprecated and will be removed in a future version.\n",
      "Instructions for updating:\n",
      "Please use tf.data to implement this functionality.\n",
      "Extracting data/MNIST_data\\train-labels-idx1-ubyte.gz\n",
      "WARNING:tensorflow:From C:\\Users\\acorn\\AppData\\Local\\Continuum\\anaconda3\\envs\\tf1\\lib\\site-packages\\tensorflow_core\\contrib\\learn\\python\\learn\\datasets\\mnist.py:110: dense_to_one_hot (from tensorflow.contrib.learn.python.learn.datasets.mnist) is deprecated and will be removed in a future version.\n",
      "Instructions for updating:\n",
      "Please use tf.one_hot on tensors.\n",
      "Successfully downloaded t10k-images-idx3-ubyte.gz 1648877 bytes.\n",
      "Extracting data/MNIST_data\\t10k-images-idx3-ubyte.gz\n",
      "Successfully downloaded t10k-labels-idx1-ubyte.gz 4542 bytes.\n",
      "Extracting data/MNIST_data\\t10k-labels-idx1-ubyte.gz\n",
      "WARNING:tensorflow:From C:\\Users\\acorn\\AppData\\Local\\Continuum\\anaconda3\\envs\\tf1\\lib\\site-packages\\tensorflow_core\\contrib\\learn\\python\\learn\\datasets\\mnist.py:290: DataSet.__init__ (from tensorflow.contrib.learn.python.learn.datasets.mnist) is deprecated and will be removed in a future version.\n",
      "Instructions for updating:\n",
      "Please use alternatives such as official/mnist/dataset.py from tensorflow/models.\n"
     ]
    }
   ],
   "source": [
    "from tensorflow.examples.tutorials.mnist import input_data\n",
    "mnist = input_data.read_data_sets(\"data/MNIST_data\", one_hot=True)"
   ]
  },
  {
   "cell_type": "code",
   "execution_count": 50,
   "metadata": {},
   "outputs": [
    {
     "data": {
      "text/plain": [
       "55000"
      ]
     },
     "execution_count": 50,
     "metadata": {},
     "output_type": "execute_result"
    }
   ],
   "source": [
    "type(mnist) #tensorflow.contrib.learn.python.learn.datasets.base.Datasets\n",
    "dir(mnist)\n",
    "mnist.train.labels\n",
    "mnist.train.num_examples # 전체데이터 수"
   ]
  },
  {
   "cell_type": "code",
   "execution_count": 70,
   "metadata": {
    "scrolled": false
   },
   "outputs": [
    {
     "ename": "KeyboardInterrupt",
     "evalue": "",
     "output_type": "error",
     "traceback": [
      "\u001b[1;31m---------------------------------------------------------------------------\u001b[0m",
      "\u001b[1;31mKeyboardInterrupt\u001b[0m                         Traceback (most recent call last)",
      "\u001b[1;32m<ipython-input-70-433ca77409a6>\u001b[0m in \u001b[0;36m<module>\u001b[1;34m\u001b[0m\n\u001b[0;32m     37\u001b[0m     \u001b[1;32mfor\u001b[0m \u001b[0mi\u001b[0m \u001b[1;32min\u001b[0m \u001b[0mrange\u001b[0m\u001b[1;33m(\u001b[0m\u001b[0mtotal_batch\u001b[0m\u001b[1;33m)\u001b[0m\u001b[1;33m:\u001b[0m\u001b[1;33m\u001b[0m\u001b[1;33m\u001b[0m\u001b[0m\n\u001b[0;32m     38\u001b[0m         \u001b[0mbatch_xs\u001b[0m\u001b[1;33m,\u001b[0m \u001b[0mbatch_ys\u001b[0m \u001b[1;33m=\u001b[0m \u001b[0mmnist\u001b[0m\u001b[1;33m.\u001b[0m\u001b[0mtrain\u001b[0m\u001b[1;33m.\u001b[0m\u001b[0mnext_batch\u001b[0m\u001b[1;33m(\u001b[0m\u001b[0mbatch_size\u001b[0m\u001b[1;33m)\u001b[0m \u001b[1;31m# batch를 100개씩 넘겨서 위치를 넘겨주는건가요?\u001b[0m\u001b[1;33m\u001b[0m\u001b[1;33m\u001b[0m\u001b[0m\n\u001b[1;32m---> 39\u001b[1;33m         \u001b[0m_\u001b[0m\u001b[1;33m,\u001b[0m \u001b[0mloss\u001b[0m\u001b[1;33m,\u001b[0m \u001b[0macc\u001b[0m \u001b[1;33m=\u001b[0m \u001b[0msess\u001b[0m\u001b[1;33m.\u001b[0m\u001b[0mrun\u001b[0m\u001b[1;33m(\u001b[0m\u001b[1;33m[\u001b[0m\u001b[0mtrain\u001b[0m\u001b[1;33m,\u001b[0m \u001b[0mtf\u001b[0m\u001b[1;33m.\u001b[0m\u001b[0mreduce_mean\u001b[0m\u001b[1;33m(\u001b[0m\u001b[0mcost\u001b[0m\u001b[1;33m)\u001b[0m\u001b[1;33m,\u001b[0m \u001b[0maccuracy\u001b[0m\u001b[1;33m]\u001b[0m\u001b[1;33m,\u001b[0m \u001b[0mfeed_dict\u001b[0m\u001b[1;33m=\u001b[0m\u001b[1;33m{\u001b[0m\u001b[0mX\u001b[0m\u001b[1;33m:\u001b[0m\u001b[0mbatch_xs\u001b[0m\u001b[1;33m,\u001b[0m \u001b[0my\u001b[0m\u001b[1;33m:\u001b[0m\u001b[0mbatch_ys\u001b[0m\u001b[1;33m}\u001b[0m\u001b[1;33m)\u001b[0m\u001b[1;33m\u001b[0m\u001b[1;33m\u001b[0m\u001b[0m\n\u001b[0m\u001b[0;32m     40\u001b[0m \u001b[1;33m\u001b[0m\u001b[0m\n\u001b[0;32m     41\u001b[0m \u001b[1;31m#     _, loss, acc = sess.run([train, tf.reduce_mean(cost), accuracy], feed_dict={X:batch_xs, y:batch_ys})\u001b[0m\u001b[1;33m\u001b[0m\u001b[1;33m\u001b[0m\u001b[1;33m\u001b[0m\u001b[0m\n",
      "\u001b[1;32m~\\AppData\\Local\\Continuum\\anaconda3\\envs\\tf1\\lib\\site-packages\\tensorflow_core\\python\\client\\session.py\u001b[0m in \u001b[0;36mrun\u001b[1;34m(self, fetches, feed_dict, options, run_metadata)\u001b[0m\n\u001b[0;32m    954\u001b[0m     \u001b[1;32mtry\u001b[0m\u001b[1;33m:\u001b[0m\u001b[1;33m\u001b[0m\u001b[1;33m\u001b[0m\u001b[0m\n\u001b[0;32m    955\u001b[0m       result = self._run(None, fetches, feed_dict, options_ptr,\n\u001b[1;32m--> 956\u001b[1;33m                          run_metadata_ptr)\n\u001b[0m\u001b[0;32m    957\u001b[0m       \u001b[1;32mif\u001b[0m \u001b[0mrun_metadata\u001b[0m\u001b[1;33m:\u001b[0m\u001b[1;33m\u001b[0m\u001b[1;33m\u001b[0m\u001b[0m\n\u001b[0;32m    958\u001b[0m         \u001b[0mproto_data\u001b[0m \u001b[1;33m=\u001b[0m \u001b[0mtf_session\u001b[0m\u001b[1;33m.\u001b[0m\u001b[0mTF_GetBuffer\u001b[0m\u001b[1;33m(\u001b[0m\u001b[0mrun_metadata_ptr\u001b[0m\u001b[1;33m)\u001b[0m\u001b[1;33m\u001b[0m\u001b[1;33m\u001b[0m\u001b[0m\n",
      "\u001b[1;32m~\\AppData\\Local\\Continuum\\anaconda3\\envs\\tf1\\lib\\site-packages\\tensorflow_core\\python\\client\\session.py\u001b[0m in \u001b[0;36m_run\u001b[1;34m(self, handle, fetches, feed_dict, options, run_metadata)\u001b[0m\n\u001b[0;32m   1178\u001b[0m     \u001b[1;32mif\u001b[0m \u001b[0mfinal_fetches\u001b[0m \u001b[1;32mor\u001b[0m \u001b[0mfinal_targets\u001b[0m \u001b[1;32mor\u001b[0m \u001b[1;33m(\u001b[0m\u001b[0mhandle\u001b[0m \u001b[1;32mand\u001b[0m \u001b[0mfeed_dict_tensor\u001b[0m\u001b[1;33m)\u001b[0m\u001b[1;33m:\u001b[0m\u001b[1;33m\u001b[0m\u001b[1;33m\u001b[0m\u001b[0m\n\u001b[0;32m   1179\u001b[0m       results = self._do_run(handle, final_targets, final_fetches,\n\u001b[1;32m-> 1180\u001b[1;33m                              feed_dict_tensor, options, run_metadata)\n\u001b[0m\u001b[0;32m   1181\u001b[0m     \u001b[1;32melse\u001b[0m\u001b[1;33m:\u001b[0m\u001b[1;33m\u001b[0m\u001b[1;33m\u001b[0m\u001b[0m\n\u001b[0;32m   1182\u001b[0m       \u001b[0mresults\u001b[0m \u001b[1;33m=\u001b[0m \u001b[1;33m[\u001b[0m\u001b[1;33m]\u001b[0m\u001b[1;33m\u001b[0m\u001b[1;33m\u001b[0m\u001b[0m\n",
      "\u001b[1;32m~\\AppData\\Local\\Continuum\\anaconda3\\envs\\tf1\\lib\\site-packages\\tensorflow_core\\python\\client\\session.py\u001b[0m in \u001b[0;36m_do_run\u001b[1;34m(self, handle, target_list, fetch_list, feed_dict, options, run_metadata)\u001b[0m\n\u001b[0;32m   1357\u001b[0m     \u001b[1;32mif\u001b[0m \u001b[0mhandle\u001b[0m \u001b[1;32mis\u001b[0m \u001b[1;32mNone\u001b[0m\u001b[1;33m:\u001b[0m\u001b[1;33m\u001b[0m\u001b[1;33m\u001b[0m\u001b[0m\n\u001b[0;32m   1358\u001b[0m       return self._do_call(_run_fn, feeds, fetches, targets, options,\n\u001b[1;32m-> 1359\u001b[1;33m                            run_metadata)\n\u001b[0m\u001b[0;32m   1360\u001b[0m     \u001b[1;32melse\u001b[0m\u001b[1;33m:\u001b[0m\u001b[1;33m\u001b[0m\u001b[1;33m\u001b[0m\u001b[0m\n\u001b[0;32m   1361\u001b[0m       \u001b[1;32mreturn\u001b[0m \u001b[0mself\u001b[0m\u001b[1;33m.\u001b[0m\u001b[0m_do_call\u001b[0m\u001b[1;33m(\u001b[0m\u001b[0m_prun_fn\u001b[0m\u001b[1;33m,\u001b[0m \u001b[0mhandle\u001b[0m\u001b[1;33m,\u001b[0m \u001b[0mfeeds\u001b[0m\u001b[1;33m,\u001b[0m \u001b[0mfetches\u001b[0m\u001b[1;33m)\u001b[0m\u001b[1;33m\u001b[0m\u001b[1;33m\u001b[0m\u001b[0m\n",
      "\u001b[1;32m~\\AppData\\Local\\Continuum\\anaconda3\\envs\\tf1\\lib\\site-packages\\tensorflow_core\\python\\client\\session.py\u001b[0m in \u001b[0;36m_do_call\u001b[1;34m(self, fn, *args)\u001b[0m\n\u001b[0;32m   1363\u001b[0m   \u001b[1;32mdef\u001b[0m \u001b[0m_do_call\u001b[0m\u001b[1;33m(\u001b[0m\u001b[0mself\u001b[0m\u001b[1;33m,\u001b[0m \u001b[0mfn\u001b[0m\u001b[1;33m,\u001b[0m \u001b[1;33m*\u001b[0m\u001b[0margs\u001b[0m\u001b[1;33m)\u001b[0m\u001b[1;33m:\u001b[0m\u001b[1;33m\u001b[0m\u001b[1;33m\u001b[0m\u001b[0m\n\u001b[0;32m   1364\u001b[0m     \u001b[1;32mtry\u001b[0m\u001b[1;33m:\u001b[0m\u001b[1;33m\u001b[0m\u001b[1;33m\u001b[0m\u001b[0m\n\u001b[1;32m-> 1365\u001b[1;33m       \u001b[1;32mreturn\u001b[0m \u001b[0mfn\u001b[0m\u001b[1;33m(\u001b[0m\u001b[1;33m*\u001b[0m\u001b[0margs\u001b[0m\u001b[1;33m)\u001b[0m\u001b[1;33m\u001b[0m\u001b[1;33m\u001b[0m\u001b[0m\n\u001b[0m\u001b[0;32m   1366\u001b[0m     \u001b[1;32mexcept\u001b[0m \u001b[0merrors\u001b[0m\u001b[1;33m.\u001b[0m\u001b[0mOpError\u001b[0m \u001b[1;32mas\u001b[0m \u001b[0me\u001b[0m\u001b[1;33m:\u001b[0m\u001b[1;33m\u001b[0m\u001b[1;33m\u001b[0m\u001b[0m\n\u001b[0;32m   1367\u001b[0m       \u001b[0mmessage\u001b[0m \u001b[1;33m=\u001b[0m \u001b[0mcompat\u001b[0m\u001b[1;33m.\u001b[0m\u001b[0mas_text\u001b[0m\u001b[1;33m(\u001b[0m\u001b[0me\u001b[0m\u001b[1;33m.\u001b[0m\u001b[0mmessage\u001b[0m\u001b[1;33m)\u001b[0m\u001b[1;33m\u001b[0m\u001b[1;33m\u001b[0m\u001b[0m\n",
      "\u001b[1;32m~\\AppData\\Local\\Continuum\\anaconda3\\envs\\tf1\\lib\\site-packages\\tensorflow_core\\python\\client\\session.py\u001b[0m in \u001b[0;36m_run_fn\u001b[1;34m(feed_dict, fetch_list, target_list, options, run_metadata)\u001b[0m\n\u001b[0;32m   1348\u001b[0m       \u001b[0mself\u001b[0m\u001b[1;33m.\u001b[0m\u001b[0m_extend_graph\u001b[0m\u001b[1;33m(\u001b[0m\u001b[1;33m)\u001b[0m\u001b[1;33m\u001b[0m\u001b[1;33m\u001b[0m\u001b[0m\n\u001b[0;32m   1349\u001b[0m       return self._call_tf_sessionrun(options, feed_dict, fetch_list,\n\u001b[1;32m-> 1350\u001b[1;33m                                       target_list, run_metadata)\n\u001b[0m\u001b[0;32m   1351\u001b[0m \u001b[1;33m\u001b[0m\u001b[0m\n\u001b[0;32m   1352\u001b[0m     \u001b[1;32mdef\u001b[0m \u001b[0m_prun_fn\u001b[0m\u001b[1;33m(\u001b[0m\u001b[0mhandle\u001b[0m\u001b[1;33m,\u001b[0m \u001b[0mfeed_dict\u001b[0m\u001b[1;33m,\u001b[0m \u001b[0mfetch_list\u001b[0m\u001b[1;33m)\u001b[0m\u001b[1;33m:\u001b[0m\u001b[1;33m\u001b[0m\u001b[1;33m\u001b[0m\u001b[0m\n",
      "\u001b[1;32m~\\AppData\\Local\\Continuum\\anaconda3\\envs\\tf1\\lib\\site-packages\\tensorflow_core\\python\\client\\session.py\u001b[0m in \u001b[0;36m_call_tf_sessionrun\u001b[1;34m(self, options, feed_dict, fetch_list, target_list, run_metadata)\u001b[0m\n\u001b[0;32m   1441\u001b[0m     return tf_session.TF_SessionRun_wrapper(self._session, options, feed_dict,\n\u001b[0;32m   1442\u001b[0m                                             \u001b[0mfetch_list\u001b[0m\u001b[1;33m,\u001b[0m \u001b[0mtarget_list\u001b[0m\u001b[1;33m,\u001b[0m\u001b[1;33m\u001b[0m\u001b[1;33m\u001b[0m\u001b[0m\n\u001b[1;32m-> 1443\u001b[1;33m                                             run_metadata)\n\u001b[0m\u001b[0;32m   1444\u001b[0m \u001b[1;33m\u001b[0m\u001b[0m\n\u001b[0;32m   1445\u001b[0m   \u001b[1;32mdef\u001b[0m \u001b[0m_call_tf_sessionprun\u001b[0m\u001b[1;33m(\u001b[0m\u001b[0mself\u001b[0m\u001b[1;33m,\u001b[0m \u001b[0mhandle\u001b[0m\u001b[1;33m,\u001b[0m \u001b[0mfeed_dict\u001b[0m\u001b[1;33m,\u001b[0m \u001b[0mfetch_list\u001b[0m\u001b[1;33m)\u001b[0m\u001b[1;33m:\u001b[0m\u001b[1;33m\u001b[0m\u001b[1;33m\u001b[0m\u001b[0m\n",
      "\u001b[1;31mKeyboardInterrupt\u001b[0m: "
     ]
    }
   ],
   "source": [
    "X = tf.placeholder(tf.float32, shape=[None, 784])\n",
    "y = tf.placeholder(tf.float32, shape=[None, 10]) # one_hot 인코딩이 되어있어서(데이터셋 불러올때 함) 1개 아니고 10개\n",
    "\n",
    "W = tf.Variable(tf.random_normal([784, 10]))\n",
    "b = tf.Variable(tf.random_normal([10]))\n",
    "\n",
    "### Logit(원초적인 공식)을 따로 빼줍니당\n",
    "logit = tf.matmul(X,W) + b\n",
    "\n",
    "### 가설 준비 ###\n",
    "hypothesis = tf.nn.softmax(logit)\n",
    "\n",
    "### 비용 함수 ###\n",
    "cost = tf.nn.softmax_cross_entropy_with_logits(logits=logit, labels=y)\n",
    "# cost = tf.reduce_mean(tf.nn.softmax_cross_entropy_with_logits(logits=logit, labels=y))\n",
    "\n",
    "### 최소비용 계산 ###\n",
    "train = tf.train.GradientDescentOptimizer(learning_rate=0.1).minimize(cost)\n",
    "\n",
    "########################### 텐서플로우 그래프 완성 ###########################\n",
    "\n",
    "### 정확도 확인 ###\n",
    "is_corrected = tf.equal(tf.arg_max(hypothesis, 1), tf.arg_max(y, 1))\n",
    "accuracy = tf.reduce_mean(tf.cast(is_corrected, tf.float32))\n",
    "\n",
    "### 그래프 실행 ###\n",
    "sess = tf.Session()\n",
    "sess.run(tf.global_variables_initializer())\n",
    "\n",
    "# 데이터가 55000개니까 Batch를 써서 멀티 프로세스를 쓰쟈\n",
    "training_epochs = 50\n",
    "batch_size = 100\n",
    "\n",
    "for epoch in range(training_epochs):\n",
    "    total_batch = int(mnist.train.num_examples/batch_size) # batch가 100개니까 데이터를 100으로 쪼개서 총 550개\n",
    "    \n",
    "    for i in range(total_batch): # 550번 반복돌리면서\n",
    "        batch_xs, batch_ys = mnist.train.next_batch(batch_size) # batch 100개를 실행할거얌\n",
    "        _, loss, acc = sess.run([train, tf.reduce_mean(cost), accuracy], feed_dict={X:batch_xs, y:batch_ys})\n",
    "        \n",
    "#     _, loss, acc = sess.run([train, tf.reduce_mean(cost), accuracy], feed_dict={X:batch_xs, y:batch_ys})\n",
    "#     print(\"Step:{:5}\\tLoss:{:.3f}\\tAcc:{:.2%}\".format(epoch, loss, acc))\n",
    "\n",
    "\n",
    "\"\"\"\n",
    "for i in range(total_batch): # total_batch만큼 반복을 한다. 즉 550번 반복해서 이렇게하면 같은 550개 반복되기 때문에\n",
    "        batch_xs, batch_ys = mnist.train.nest_batch(batch_size)  # next_batch : 다음 배치를 100개까지 실행한다는 것.\n",
    "\"\"\"        \n",
    "\n",
    "print(\"정확도 : \", sess.run(accuracy, feed_dict={X:mnist.test.images, y:mnist.test.labels}))"
   ]
  },
  {
   "cell_type": "code",
   "execution_count": null,
   "metadata": {},
   "outputs": [],
   "source": []
  },
  {
   "cell_type": "code",
   "execution_count": null,
   "metadata": {},
   "outputs": [],
   "source": []
  },
  {
   "cell_type": "code",
   "execution_count": null,
   "metadata": {},
   "outputs": [],
   "source": []
  },
  {
   "cell_type": "code",
   "execution_count": null,
   "metadata": {},
   "outputs": [],
   "source": []
  },
  {
   "cell_type": "code",
   "execution_count": null,
   "metadata": {},
   "outputs": [],
   "source": []
  },
  {
   "cell_type": "code",
   "execution_count": null,
   "metadata": {},
   "outputs": [],
   "source": []
  },
  {
   "cell_type": "code",
   "execution_count": null,
   "metadata": {},
   "outputs": [],
   "source": []
  },
  {
   "cell_type": "code",
   "execution_count": null,
   "metadata": {},
   "outputs": [],
   "source": []
  },
  {
   "cell_type": "code",
   "execution_count": null,
   "metadata": {},
   "outputs": [],
   "source": []
  },
  {
   "cell_type": "code",
   "execution_count": null,
   "metadata": {},
   "outputs": [],
   "source": []
  },
  {
   "cell_type": "code",
   "execution_count": null,
   "metadata": {},
   "outputs": [],
   "source": []
  },
  {
   "cell_type": "code",
   "execution_count": null,
   "metadata": {},
   "outputs": [],
   "source": []
  }
 ],
 "metadata": {
  "kernelspec": {
   "display_name": "Python 3",
   "language": "python",
   "name": "python3"
  },
  "language_info": {
   "codemirror_mode": {
    "name": "ipython",
    "version": 3
   },
   "file_extension": ".py",
   "mimetype": "text/x-python",
   "name": "python",
   "nbconvert_exporter": "python",
   "pygments_lexer": "ipython3",
   "version": "3.7.6"
  }
 },
 "nbformat": 4,
 "nbformat_minor": 4
}
